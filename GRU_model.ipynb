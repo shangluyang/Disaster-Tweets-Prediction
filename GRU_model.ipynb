{
  "cells": [
    {
      "cell_type": "code",
      "execution_count": 75,
      "metadata": {
        "colab": {
          "base_uri": "https://localhost:8080/"
        },
        "execution": {
          "iopub.execute_input": "2023-04-27T07:45:37.528664Z",
          "iopub.status.busy": "2023-04-27T07:45:37.527773Z",
          "iopub.status.idle": "2023-04-27T07:45:39.443324Z",
          "shell.execute_reply": "2023-04-27T07:45:39.441939Z",
          "shell.execute_reply.started": "2023-04-27T07:45:37.528620Z"
        },
        "id": "XgCDxQF6QErD",
        "outputId": "7899715d-d5d3-4081-f8ea-f629d9ee6ad4",
        "trusted": true
      },
      "outputs": [
        {
          "name": "stderr",
          "output_type": "stream",
          "text": [
            "[nltk_data] Downloading package stopwords to /root/nltk_data...\n",
            "[nltk_data]   Package stopwords is already up-to-date!\n",
            "[nltk_data] Downloading package wordnet to /root/nltk_data...\n",
            "[nltk_data]   Package wordnet is already up-to-date!\n"
          ]
        }
      ],
      "source": [
        "# import package\n",
        "from tqdm import tqdm\n",
        "import numpy as np\n",
        "import random\n",
        "import pandas as pd\n",
        "import nltk\n",
        "from nltk.stem import WordNetLemmatizer\n",
        "import re\n",
        "import matplotlib.pyplot as plt\n",
        "import seaborn as sns\n",
        "from sklearn.utils import shuffle\n",
        "import torch\n",
        "import torch.nn as nn\n",
        "import torch.optim as optim\n",
        "from torch.autograd import Variable\n",
        "import torch.nn.functional as F\n",
        "import string\n",
        "from torch.utils.data import Dataset, DataLoader\n",
        "import torchtext\n",
        "from torchtext.data.utils import get_tokenizer\n",
        "from torchtext.vocab import build_vocab_from_iterator\n",
        "nltk.download('stopwords')\n",
        "nltk.download(\"wordnet\")\n",
        "import warnings\n",
        "warnings.filterwarnings(\"ignore\")"
      ]
    },
    {
      "cell_type": "code",
      "execution_count": 76,
      "metadata": {
        "execution": {
          "iopub.execute_input": "2023-04-27T07:45:41.624036Z",
          "iopub.status.busy": "2023-04-27T07:45:41.623435Z",
          "iopub.status.idle": "2023-04-27T07:46:01.404263Z",
          "shell.execute_reply": "2023-04-27T07:46:01.402780Z",
          "shell.execute_reply.started": "2023-04-27T07:45:41.623998Z"
        },
        "id": "qox5rH_3QErG",
        "trusted": true
      },
      "outputs": [],
      "source": [
        "# ! unzip /usr/share/nltk_data/corpora/wordnet.zip -d /usr/share/nltk_data/corpora/"
      ]
    },
    {
      "cell_type": "code",
      "execution_count": 77,
      "metadata": {
        "colab": {
          "base_uri": "https://localhost:8080/"
        },
        "id": "dbgRRdAqQN4u",
        "outputId": "7f2ef515-7344-4a86-ee8d-53bbe0888166"
      },
      "outputs": [
        {
          "name": "stdout",
          "output_type": "stream",
          "text": [
            "Looking in indexes: https://pypi.org/simple, https://us-python.pkg.dev/colab-wheels/public/simple/\n",
            "Requirement already satisfied: transformers in /usr/local/lib/python3.10/dist-packages (4.28.1)\n",
            "Requirement already satisfied: filelock in /usr/local/lib/python3.10/dist-packages (from transformers) (3.12.0)\n",
            "Requirement already satisfied: huggingface-hub<1.0,>=0.11.0 in /usr/local/lib/python3.10/dist-packages (from transformers) (0.14.1)\n",
            "Requirement already satisfied: numpy>=1.17 in /usr/local/lib/python3.10/dist-packages (from transformers) (1.22.4)\n",
            "Requirement already satisfied: packaging>=20.0 in /usr/local/lib/python3.10/dist-packages (from transformers) (23.1)\n",
            "Requirement already satisfied: pyyaml>=5.1 in /usr/local/lib/python3.10/dist-packages (from transformers) (6.0)\n",
            "Requirement already satisfied: regex!=2019.12.17 in /usr/local/lib/python3.10/dist-packages (from transformers) (2022.10.31)\n",
            "Requirement already satisfied: requests in /usr/local/lib/python3.10/dist-packages (from transformers) (2.27.1)\n",
            "Requirement already satisfied: tokenizers!=0.11.3,<0.14,>=0.11.1 in /usr/local/lib/python3.10/dist-packages (from transformers) (0.13.3)\n",
            "Requirement already satisfied: tqdm>=4.27 in /usr/local/lib/python3.10/dist-packages (from transformers) (4.65.0)\n",
            "Requirement already satisfied: fsspec in /usr/local/lib/python3.10/dist-packages (from huggingface-hub<1.0,>=0.11.0->transformers) (2023.4.0)\n",
            "Requirement already satisfied: typing-extensions>=3.7.4.3 in /usr/local/lib/python3.10/dist-packages (from huggingface-hub<1.0,>=0.11.0->transformers) (4.5.0)\n",
            "Requirement already satisfied: urllib3<1.27,>=1.21.1 in /usr/local/lib/python3.10/dist-packages (from requests->transformers) (1.26.15)\n",
            "Requirement already satisfied: certifi>=2017.4.17 in /usr/local/lib/python3.10/dist-packages (from requests->transformers) (2022.12.7)\n",
            "Requirement already satisfied: charset-normalizer~=2.0.0 in /usr/local/lib/python3.10/dist-packages (from requests->transformers) (2.0.12)\n",
            "Requirement already satisfied: idna<4,>=2.5 in /usr/local/lib/python3.10/dist-packages (from requests->transformers) (3.4)\n"
          ]
        }
      ],
      "source": [
        "!pip install transformers"
      ]
    },
    {
      "cell_type": "code",
      "execution_count": 78,
      "metadata": {
        "colab": {
          "base_uri": "https://localhost:8080/"
        },
        "execution": {
          "iopub.execute_input": "2023-04-27T07:46:03.669242Z",
          "iopub.status.busy": "2023-04-27T07:46:03.667963Z",
          "iopub.status.idle": "2023-04-27T07:46:03.707151Z",
          "shell.execute_reply": "2023-04-27T07:46:03.705947Z",
          "shell.execute_reply.started": "2023-04-27T07:46:03.669193Z"
        },
        "id": "TJCfeX6AQErG",
        "outputId": "b64ce18b-ac3d-4dc0-d262-5bfae9c4c12a",
        "trusted": true
      },
      "outputs": [
        {
          "data": {
            "text/plain": [
              "device(type='cuda', index=0)"
            ]
          },
          "execution_count": 78,
          "metadata": {},
          "output_type": "execute_result"
        }
      ],
      "source": [
        "# setting seed\n",
        "def seed_everything(seed):\n",
        "    random.seed(seed)\n",
        "    np.random.seed(seed)\n",
        "    torch.manual_seed(seed)\n",
        "    torch.cuda.manual_seed_all(seed)\n",
        "    return seed\n",
        "\n",
        "seed_everything(42)\n",
        "MAX_LENGTH = 30\n",
        "device = torch.device(\"cuda:0\" if torch.cuda.is_available() else \"cpu\")\n",
        "device"
      ]
    },
    {
      "cell_type": "code",
      "execution_count": 79,
      "metadata": {
        "execution": {
          "iopub.execute_input": "2023-04-27T07:46:06.356043Z",
          "iopub.status.busy": "2023-04-27T07:46:06.355608Z",
          "iopub.status.idle": "2023-04-27T07:46:06.402586Z",
          "shell.execute_reply": "2023-04-27T07:46:06.401381Z",
          "shell.execute_reply.started": "2023-04-27T07:46:06.356006Z"
        },
        "id": "M_R78beEQErH",
        "trusted": true
      },
      "outputs": [],
      "source": [
        "# import dataset\n",
        "train= pd.read_csv('./train.csv')\n",
        "test= pd.read_csv(\"./test.csv\")"
      ]
    },
    {
      "cell_type": "code",
      "execution_count": 80,
      "metadata": {
        "execution": {
          "iopub.execute_input": "2023-04-27T07:46:06.741075Z",
          "iopub.status.busy": "2023-04-27T07:46:06.739980Z",
          "iopub.status.idle": "2023-04-27T07:46:06.751808Z",
          "shell.execute_reply": "2023-04-27T07:46:06.749444Z",
          "shell.execute_reply.started": "2023-04-27T07:46:06.741026Z"
        },
        "id": "-Z0cIWjSQErH",
        "trusted": true
      },
      "outputs": [],
      "source": [
        "# data cleaning\n",
        "def remove_emoji(string):\n",
        "    emoji_pattern = re.compile(\"[\"\n",
        "                           u\"\\U0001F600-\\U0001F64F\"  # emoticons\n",
        "                           u\"\\U0001F300-\\U0001F5FF\"  # symbols & pictographs\n",
        "                           u\"\\U0001F680-\\U0001F6FF\"  # transport & map symbols\n",
        "                           u\"\\U0001F1E0-\\U0001F1FF\"  # flags (iOS)\n",
        "                           u\"\\U00002702-\\U000027B0\"\n",
        "                           u\"\\U000024C2-\\U0001F251\"\n",
        "                           \"]+\", flags=re.UNICODE)\n",
        "    return emoji_pattern.sub(r' ', string)\n",
        "\n",
        "def clean_sentence(sentence):\n",
        "    # remove URLS \n",
        "    sentence = re.sub(r'http\\S+', ' ', sentence)\n",
        "    # remove emoji's\n",
        "    sentence = remove_emoji(sentence)\n",
        "    # remove punctuation\n",
        "    sentence = re.sub(\"[^0-9A-Za-z ]\", \"\" , sentence)\n",
        "    # remove double spaces\n",
        "    sentence = sentence.replace('  ',\"\")\n",
        "    \n",
        "    return sentence.strip()\n",
        "\n",
        "def remove_stopwords(tokens, stopwords):\n",
        "    clean_token = [word for word in tokens if word not in stopwords]\n",
        "    return clean_token\n",
        "\n",
        "# lemmalization \n",
        "def lemmatize(tokens, lemma):\n",
        "    lemmatized_tokens = [lemma.lemmatize(token, pos = 'v') for token in tokens]\n",
        "    return lemmatized_tokens"
      ]
    },
    {
      "cell_type": "code",
      "execution_count": 81,
      "metadata": {
        "execution": {
          "iopub.execute_input": "2023-04-27T07:46:06.986553Z",
          "iopub.status.busy": "2023-04-27T07:46:06.985790Z",
          "iopub.status.idle": "2023-04-27T07:46:06.993621Z",
          "shell.execute_reply": "2023-04-27T07:46:06.992211Z",
          "shell.execute_reply.started": "2023-04-27T07:46:06.986503Z"
        },
        "id": "R2J6QC5CQErI",
        "trusted": true
      },
      "outputs": [],
      "source": [
        "# fix sentence length\n",
        "def trunc_padding(sentence):\n",
        "    modify_sentence = sentence.copy()\n",
        "    if len(modify_sentence) >= MAX_LENGTH:\n",
        "        modify_sentence = modify_sentence[:MAX_LENGTH]\n",
        "    else:\n",
        "        modify_sentence.extend(list([\"0\"] * (MAX_LENGTH - len(modify_sentence))))\n",
        "    return modify_sentence"
      ]
    },
    {
      "cell_type": "code",
      "execution_count": 82,
      "metadata": {
        "execution": {
          "iopub.execute_input": "2023-04-27T07:46:07.193695Z",
          "iopub.status.busy": "2023-04-27T07:46:07.192896Z",
          "iopub.status.idle": "2023-04-27T07:46:10.269619Z",
          "shell.execute_reply": "2023-04-27T07:46:10.268413Z",
          "shell.execute_reply.started": "2023-04-27T07:46:07.193654Z"
        },
        "id": "IrGQYQDjQErI",
        "trusted": true
      },
      "outputs": [],
      "source": [
        "# processing data cleaning\n",
        "stopwords = nltk.corpus.stopwords.words('english')\n",
        "lemma = WordNetLemmatizer()\n",
        "\n",
        "def processing(df, stopwords, lemma):\n",
        "    df['text'] = df['text'].apply(lambda sentence: sentence.lower())\n",
        "    df['text'] = df['text'].apply(lambda sentence: clean_sentence(sentence))\n",
        "    # tokenization\n",
        "    df['text'] = df['text'].apply(lambda sentence: sentence.split())\n",
        "    # remove stopwords\n",
        "    df['text'] = df['text'].apply(lambda sentence: remove_stopwords(sentence, stopwords))\n",
        "    # lemmalization \n",
        "    df['text'] = df['text'].apply(lambda sentence: lemmatize(sentence, lemma))\n",
        "    # sentence length before padding\n",
        "    df['length'] = df['text'].apply(lambda x: len(x))\n",
        "    # fix sentence length\n",
        "    df['text'] = df['text'].apply(lambda sentence: trunc_padding(sentence))\n",
        "    # sentence length after padding\n",
        "    df['length_padding'] = df['text'].apply(lambda x: len(x))\n",
        "    \n",
        "processing(train, stopwords, lemma)\n",
        "processing(test, stopwords, lemma)"
      ]
    },
    {
      "cell_type": "code",
      "execution_count": 83,
      "metadata": {
        "colab": {
          "base_uri": "https://localhost:8080/",
          "height": 282
        },
        "execution": {
          "iopub.execute_input": "2023-04-27T07:46:10.273037Z",
          "iopub.status.busy": "2023-04-27T07:46:10.272330Z",
          "iopub.status.idle": "2023-04-27T07:46:10.294293Z",
          "shell.execute_reply": "2023-04-27T07:46:10.293008Z",
          "shell.execute_reply.started": "2023-04-27T07:46:10.272992Z"
        },
        "id": "ETyVjknGQErI",
        "outputId": "ba18c949-fe29-4c07-ccab-0534453cb29e",
        "trusted": true
      },
      "outputs": [
        {
          "data": {
            "text/html": [
              "\n",
              "  <div id=\"df-d41659ac-15eb-4aaf-98cf-1eda63124681\">\n",
              "    <div class=\"colab-df-container\">\n",
              "      <div>\n",
              "<style scoped>\n",
              "    .dataframe tbody tr th:only-of-type {\n",
              "        vertical-align: middle;\n",
              "    }\n",
              "\n",
              "    .dataframe tbody tr th {\n",
              "        vertical-align: top;\n",
              "    }\n",
              "\n",
              "    .dataframe thead th {\n",
              "        text-align: right;\n",
              "    }\n",
              "</style>\n",
              "<table border=\"1\" class=\"dataframe\">\n",
              "  <thead>\n",
              "    <tr style=\"text-align: right;\">\n",
              "      <th></th>\n",
              "      <th>id</th>\n",
              "      <th>keyword</th>\n",
              "      <th>location</th>\n",
              "      <th>text</th>\n",
              "      <th>target</th>\n",
              "      <th>length</th>\n",
              "      <th>length_padding</th>\n",
              "    </tr>\n",
              "  </thead>\n",
              "  <tbody>\n",
              "    <tr>\n",
              "      <th>0</th>\n",
              "      <td>1</td>\n",
              "      <td>NaN</td>\n",
              "      <td>NaN</td>\n",
              "      <td>[deeds, reason, earthquake, may, allah, forgiv...</td>\n",
              "      <td>1</td>\n",
              "      <td>7</td>\n",
              "      <td>30</td>\n",
              "    </tr>\n",
              "    <tr>\n",
              "      <th>1</th>\n",
              "      <td>4</td>\n",
              "      <td>NaN</td>\n",
              "      <td>NaN</td>\n",
              "      <td>[forest, fire, near, la, ronge, sask, canada, ...</td>\n",
              "      <td>1</td>\n",
              "      <td>7</td>\n",
              "      <td>30</td>\n",
              "    </tr>\n",
              "    <tr>\n",
              "      <th>2</th>\n",
              "      <td>5</td>\n",
              "      <td>NaN</td>\n",
              "      <td>NaN</td>\n",
              "      <td>[residents, ask, shelter, place, notify, offic...</td>\n",
              "      <td>1</td>\n",
              "      <td>11</td>\n",
              "      <td>30</td>\n",
              "    </tr>\n",
              "    <tr>\n",
              "      <th>3</th>\n",
              "      <td>6</td>\n",
              "      <td>NaN</td>\n",
              "      <td>NaN</td>\n",
              "      <td>[13000, people, receive, wildfires, evacuation...</td>\n",
              "      <td>1</td>\n",
              "      <td>7</td>\n",
              "      <td>30</td>\n",
              "    </tr>\n",
              "    <tr>\n",
              "      <th>4</th>\n",
              "      <td>7</td>\n",
              "      <td>NaN</td>\n",
              "      <td>NaN</td>\n",
              "      <td>[get, send, photo, ruby, alaska, smoke, wildfi...</td>\n",
              "      <td>1</td>\n",
              "      <td>9</td>\n",
              "      <td>30</td>\n",
              "    </tr>\n",
              "  </tbody>\n",
              "</table>\n",
              "</div>\n",
              "      <button class=\"colab-df-convert\" onclick=\"convertToInteractive('df-d41659ac-15eb-4aaf-98cf-1eda63124681')\"\n",
              "              title=\"Convert this dataframe to an interactive table.\"\n",
              "              style=\"display:none;\">\n",
              "        \n",
              "  <svg xmlns=\"http://www.w3.org/2000/svg\" height=\"24px\"viewBox=\"0 0 24 24\"\n",
              "       width=\"24px\">\n",
              "    <path d=\"M0 0h24v24H0V0z\" fill=\"none\"/>\n",
              "    <path d=\"M18.56 5.44l.94 2.06.94-2.06 2.06-.94-2.06-.94-.94-2.06-.94 2.06-2.06.94zm-11 1L8.5 8.5l.94-2.06 2.06-.94-2.06-.94L8.5 2.5l-.94 2.06-2.06.94zm10 10l.94 2.06.94-2.06 2.06-.94-2.06-.94-.94-2.06-.94 2.06-2.06.94z\"/><path d=\"M17.41 7.96l-1.37-1.37c-.4-.4-.92-.59-1.43-.59-.52 0-1.04.2-1.43.59L10.3 9.45l-7.72 7.72c-.78.78-.78 2.05 0 2.83L4 21.41c.39.39.9.59 1.41.59.51 0 1.02-.2 1.41-.59l7.78-7.78 2.81-2.81c.8-.78.8-2.07 0-2.86zM5.41 20L4 18.59l7.72-7.72 1.47 1.35L5.41 20z\"/>\n",
              "  </svg>\n",
              "      </button>\n",
              "      \n",
              "  <style>\n",
              "    .colab-df-container {\n",
              "      display:flex;\n",
              "      flex-wrap:wrap;\n",
              "      gap: 12px;\n",
              "    }\n",
              "\n",
              "    .colab-df-convert {\n",
              "      background-color: #E8F0FE;\n",
              "      border: none;\n",
              "      border-radius: 50%;\n",
              "      cursor: pointer;\n",
              "      display: none;\n",
              "      fill: #1967D2;\n",
              "      height: 32px;\n",
              "      padding: 0 0 0 0;\n",
              "      width: 32px;\n",
              "    }\n",
              "\n",
              "    .colab-df-convert:hover {\n",
              "      background-color: #E2EBFA;\n",
              "      box-shadow: 0px 1px 2px rgba(60, 64, 67, 0.3), 0px 1px 3px 1px rgba(60, 64, 67, 0.15);\n",
              "      fill: #174EA6;\n",
              "    }\n",
              "\n",
              "    [theme=dark] .colab-df-convert {\n",
              "      background-color: #3B4455;\n",
              "      fill: #D2E3FC;\n",
              "    }\n",
              "\n",
              "    [theme=dark] .colab-df-convert:hover {\n",
              "      background-color: #434B5C;\n",
              "      box-shadow: 0px 1px 3px 1px rgba(0, 0, 0, 0.15);\n",
              "      filter: drop-shadow(0px 1px 2px rgba(0, 0, 0, 0.3));\n",
              "      fill: #FFFFFF;\n",
              "    }\n",
              "  </style>\n",
              "\n",
              "      <script>\n",
              "        const buttonEl =\n",
              "          document.querySelector('#df-d41659ac-15eb-4aaf-98cf-1eda63124681 button.colab-df-convert');\n",
              "        buttonEl.style.display =\n",
              "          google.colab.kernel.accessAllowed ? 'block' : 'none';\n",
              "\n",
              "        async function convertToInteractive(key) {\n",
              "          const element = document.querySelector('#df-d41659ac-15eb-4aaf-98cf-1eda63124681');\n",
              "          const dataTable =\n",
              "            await google.colab.kernel.invokeFunction('convertToInteractive',\n",
              "                                                     [key], {});\n",
              "          if (!dataTable) return;\n",
              "\n",
              "          const docLinkHtml = 'Like what you see? Visit the ' +\n",
              "            '<a target=\"_blank\" href=https://colab.research.google.com/notebooks/data_table.ipynb>data table notebook</a>'\n",
              "            + ' to learn more about interactive tables.';\n",
              "          element.innerHTML = '';\n",
              "          dataTable['output_type'] = 'display_data';\n",
              "          await google.colab.output.renderOutput(dataTable, element);\n",
              "          const docLink = document.createElement('div');\n",
              "          docLink.innerHTML = docLinkHtml;\n",
              "          element.appendChild(docLink);\n",
              "        }\n",
              "      </script>\n",
              "    </div>\n",
              "  </div>\n",
              "  "
            ],
            "text/plain": [
              "   id keyword location                                               text  \\\n",
              "0   1     NaN      NaN  [deeds, reason, earthquake, may, allah, forgiv...   \n",
              "1   4     NaN      NaN  [forest, fire, near, la, ronge, sask, canada, ...   \n",
              "2   5     NaN      NaN  [residents, ask, shelter, place, notify, offic...   \n",
              "3   6     NaN      NaN  [13000, people, receive, wildfires, evacuation...   \n",
              "4   7     NaN      NaN  [get, send, photo, ruby, alaska, smoke, wildfi...   \n",
              "\n",
              "   target  length  length_padding  \n",
              "0       1       7              30  \n",
              "1       1       7              30  \n",
              "2       1      11              30  \n",
              "3       1       7              30  \n",
              "4       1       9              30  "
            ]
          },
          "execution_count": 83,
          "metadata": {},
          "output_type": "execute_result"
        }
      ],
      "source": [
        "train.head()"
      ]
    },
    {
      "cell_type": "code",
      "execution_count": 84,
      "metadata": {
        "colab": {
          "base_uri": "https://localhost:8080/",
          "height": 204
        },
        "execution": {
          "iopub.execute_input": "2023-04-27T07:46:10.298063Z",
          "iopub.status.busy": "2023-04-27T07:46:10.297197Z",
          "iopub.status.idle": "2023-04-27T07:46:10.315916Z",
          "shell.execute_reply": "2023-04-27T07:46:10.314557Z",
          "shell.execute_reply.started": "2023-04-27T07:46:10.298015Z"
        },
        "id": "UVJorCc5QErI",
        "outputId": "14fcf10a-766c-41f0-cb64-6c9dff0d427a",
        "trusted": true
      },
      "outputs": [
        {
          "data": {
            "text/html": [
              "\n",
              "  <div id=\"df-6527fe5a-81c4-4a31-b59e-c730832ca5ea\">\n",
              "    <div class=\"colab-df-container\">\n",
              "      <div>\n",
              "<style scoped>\n",
              "    .dataframe tbody tr th:only-of-type {\n",
              "        vertical-align: middle;\n",
              "    }\n",
              "\n",
              "    .dataframe tbody tr th {\n",
              "        vertical-align: top;\n",
              "    }\n",
              "\n",
              "    .dataframe thead th {\n",
              "        text-align: right;\n",
              "    }\n",
              "</style>\n",
              "<table border=\"1\" class=\"dataframe\">\n",
              "  <thead>\n",
              "    <tr style=\"text-align: right;\">\n",
              "      <th></th>\n",
              "      <th>id</th>\n",
              "      <th>keyword</th>\n",
              "      <th>location</th>\n",
              "      <th>text</th>\n",
              "      <th>length</th>\n",
              "      <th>length_padding</th>\n",
              "    </tr>\n",
              "  </thead>\n",
              "  <tbody>\n",
              "    <tr>\n",
              "      <th>0</th>\n",
              "      <td>0</td>\n",
              "      <td>NaN</td>\n",
              "      <td>NaN</td>\n",
              "      <td>[happen, terrible, car, crash, 0, 0, 0, 0, 0, ...</td>\n",
              "      <td>4</td>\n",
              "      <td>30</td>\n",
              "    </tr>\n",
              "    <tr>\n",
              "      <th>1</th>\n",
              "      <td>2</td>\n",
              "      <td>NaN</td>\n",
              "      <td>NaN</td>\n",
              "      <td>[hear, earthquake, different, cities, stay, sa...</td>\n",
              "      <td>7</td>\n",
              "      <td>30</td>\n",
              "    </tr>\n",
              "    <tr>\n",
              "      <th>2</th>\n",
              "      <td>3</td>\n",
              "      <td>NaN</td>\n",
              "      <td>NaN</td>\n",
              "      <td>[forest, fire, spot, pond, geese, flee, across...</td>\n",
              "      <td>10</td>\n",
              "      <td>30</td>\n",
              "    </tr>\n",
              "    <tr>\n",
              "      <th>3</th>\n",
              "      <td>9</td>\n",
              "      <td>NaN</td>\n",
              "      <td>NaN</td>\n",
              "      <td>[apocalypse, light, spokane, wildfires, 0, 0, ...</td>\n",
              "      <td>4</td>\n",
              "      <td>30</td>\n",
              "    </tr>\n",
              "    <tr>\n",
              "      <th>4</th>\n",
              "      <td>11</td>\n",
              "      <td>NaN</td>\n",
              "      <td>NaN</td>\n",
              "      <td>[typhoon, soudelor, kill, 28, china, taiwan, 0...</td>\n",
              "      <td>6</td>\n",
              "      <td>30</td>\n",
              "    </tr>\n",
              "  </tbody>\n",
              "</table>\n",
              "</div>\n",
              "      <button class=\"colab-df-convert\" onclick=\"convertToInteractive('df-6527fe5a-81c4-4a31-b59e-c730832ca5ea')\"\n",
              "              title=\"Convert this dataframe to an interactive table.\"\n",
              "              style=\"display:none;\">\n",
              "        \n",
              "  <svg xmlns=\"http://www.w3.org/2000/svg\" height=\"24px\"viewBox=\"0 0 24 24\"\n",
              "       width=\"24px\">\n",
              "    <path d=\"M0 0h24v24H0V0z\" fill=\"none\"/>\n",
              "    <path d=\"M18.56 5.44l.94 2.06.94-2.06 2.06-.94-2.06-.94-.94-2.06-.94 2.06-2.06.94zm-11 1L8.5 8.5l.94-2.06 2.06-.94-2.06-.94L8.5 2.5l-.94 2.06-2.06.94zm10 10l.94 2.06.94-2.06 2.06-.94-2.06-.94-.94-2.06-.94 2.06-2.06.94z\"/><path d=\"M17.41 7.96l-1.37-1.37c-.4-.4-.92-.59-1.43-.59-.52 0-1.04.2-1.43.59L10.3 9.45l-7.72 7.72c-.78.78-.78 2.05 0 2.83L4 21.41c.39.39.9.59 1.41.59.51 0 1.02-.2 1.41-.59l7.78-7.78 2.81-2.81c.8-.78.8-2.07 0-2.86zM5.41 20L4 18.59l7.72-7.72 1.47 1.35L5.41 20z\"/>\n",
              "  </svg>\n",
              "      </button>\n",
              "      \n",
              "  <style>\n",
              "    .colab-df-container {\n",
              "      display:flex;\n",
              "      flex-wrap:wrap;\n",
              "      gap: 12px;\n",
              "    }\n",
              "\n",
              "    .colab-df-convert {\n",
              "      background-color: #E8F0FE;\n",
              "      border: none;\n",
              "      border-radius: 50%;\n",
              "      cursor: pointer;\n",
              "      display: none;\n",
              "      fill: #1967D2;\n",
              "      height: 32px;\n",
              "      padding: 0 0 0 0;\n",
              "      width: 32px;\n",
              "    }\n",
              "\n",
              "    .colab-df-convert:hover {\n",
              "      background-color: #E2EBFA;\n",
              "      box-shadow: 0px 1px 2px rgba(60, 64, 67, 0.3), 0px 1px 3px 1px rgba(60, 64, 67, 0.15);\n",
              "      fill: #174EA6;\n",
              "    }\n",
              "\n",
              "    [theme=dark] .colab-df-convert {\n",
              "      background-color: #3B4455;\n",
              "      fill: #D2E3FC;\n",
              "    }\n",
              "\n",
              "    [theme=dark] .colab-df-convert:hover {\n",
              "      background-color: #434B5C;\n",
              "      box-shadow: 0px 1px 3px 1px rgba(0, 0, 0, 0.15);\n",
              "      filter: drop-shadow(0px 1px 2px rgba(0, 0, 0, 0.3));\n",
              "      fill: #FFFFFF;\n",
              "    }\n",
              "  </style>\n",
              "\n",
              "      <script>\n",
              "        const buttonEl =\n",
              "          document.querySelector('#df-6527fe5a-81c4-4a31-b59e-c730832ca5ea button.colab-df-convert');\n",
              "        buttonEl.style.display =\n",
              "          google.colab.kernel.accessAllowed ? 'block' : 'none';\n",
              "\n",
              "        async function convertToInteractive(key) {\n",
              "          const element = document.querySelector('#df-6527fe5a-81c4-4a31-b59e-c730832ca5ea');\n",
              "          const dataTable =\n",
              "            await google.colab.kernel.invokeFunction('convertToInteractive',\n",
              "                                                     [key], {});\n",
              "          if (!dataTable) return;\n",
              "\n",
              "          const docLinkHtml = 'Like what you see? Visit the ' +\n",
              "            '<a target=\"_blank\" href=https://colab.research.google.com/notebooks/data_table.ipynb>data table notebook</a>'\n",
              "            + ' to learn more about interactive tables.';\n",
              "          element.innerHTML = '';\n",
              "          dataTable['output_type'] = 'display_data';\n",
              "          await google.colab.output.renderOutput(dataTable, element);\n",
              "          const docLink = document.createElement('div');\n",
              "          docLink.innerHTML = docLinkHtml;\n",
              "          element.appendChild(docLink);\n",
              "        }\n",
              "      </script>\n",
              "    </div>\n",
              "  </div>\n",
              "  "
            ],
            "text/plain": [
              "   id keyword location                                               text  \\\n",
              "0   0     NaN      NaN  [happen, terrible, car, crash, 0, 0, 0, 0, 0, ...   \n",
              "1   2     NaN      NaN  [hear, earthquake, different, cities, stay, sa...   \n",
              "2   3     NaN      NaN  [forest, fire, spot, pond, geese, flee, across...   \n",
              "3   9     NaN      NaN  [apocalypse, light, spokane, wildfires, 0, 0, ...   \n",
              "4  11     NaN      NaN  [typhoon, soudelor, kill, 28, china, taiwan, 0...   \n",
              "\n",
              "   length  length_padding  \n",
              "0       4              30  \n",
              "1       7              30  \n",
              "2      10              30  \n",
              "3       4              30  \n",
              "4       6              30  "
            ]
          },
          "execution_count": 84,
          "metadata": {},
          "output_type": "execute_result"
        }
      ],
      "source": [
        "test.head()"
      ]
    },
    {
      "cell_type": "markdown",
      "metadata": {
        "id": "WoywIK_rQErJ"
      },
      "source": [
        "## Assign unique index to each word, used for word embedding"
      ]
    },
    {
      "cell_type": "code",
      "execution_count": 84,
      "metadata": {
        "id": "a0tAJRClQErJ"
      },
      "outputs": [],
      "source": []
    },
    {
      "cell_type": "code",
      "execution_count": 85,
      "metadata": {
        "execution": {
          "iopub.execute_input": "2023-04-27T07:46:12.668161Z",
          "iopub.status.busy": "2023-04-27T07:46:12.667572Z",
          "iopub.status.idle": "2023-04-27T07:46:12.900087Z",
          "shell.execute_reply": "2023-04-27T07:46:12.898739Z",
          "shell.execute_reply.started": "2023-04-27T07:46:12.668107Z"
        },
        "id": "Pk3e-CkbQErJ",
        "trusted": true
      },
      "outputs": [],
      "source": [
        "# get all vocabulary\n",
        "vocab_list = []\n",
        "for sentence in train['text']:\n",
        "    vocab_list.append(sentence)\n",
        "vocab = build_vocab_from_iterator(vocab_list, specials=[\"<unk>\"])\n",
        "vocab.set_default_index(vocab[\"<unk>\"])"
      ]
    },
    {
      "cell_type": "markdown",
      "metadata": {
        "id": "B-bWCIirQErK"
      },
      "source": [
        "### Dataset and DataLoader"
      ]
    },
    {
      "cell_type": "code",
      "execution_count": 86,
      "metadata": {
        "execution": {
          "iopub.execute_input": "2023-04-27T07:46:14.103933Z",
          "iopub.status.busy": "2023-04-27T07:46:14.102930Z",
          "iopub.status.idle": "2023-04-27T07:46:14.112541Z",
          "shell.execute_reply": "2023-04-27T07:46:14.111081Z",
          "shell.execute_reply.started": "2023-04-27T07:46:14.103855Z"
        },
        "id": "EDMCL8dEQErK",
        "trusted": true
      },
      "outputs": [],
      "source": [
        "class TweetDataset(Dataset):\n",
        "    def __init__(self, x, y):\n",
        "        self.x = x\n",
        "        self.y = y \n",
        "    \n",
        "    def __len__(self):\n",
        "        return len(self.y)\n",
        "    \n",
        "    def __getitem__(self, idx):\n",
        "        sentence = self.x[idx]\n",
        "        x = torch.tensor(vocab(sentence), dtype=torch.long).to(device)\n",
        "        y = torch.tensor(self.y[idx], dtype=torch.long).to(device)\n",
        "        return x, y"
      ]
    },
    {
      "cell_type": "code",
      "execution_count": 87,
      "metadata": {
        "execution": {
          "iopub.execute_input": "2023-04-27T07:46:16.713521Z",
          "iopub.status.busy": "2023-04-27T07:46:16.712731Z",
          "iopub.status.idle": "2023-04-27T07:46:16.719486Z",
          "shell.execute_reply": "2023-04-27T07:46:16.718066Z",
          "shell.execute_reply.started": "2023-04-27T07:46:16.713476Z"
        },
        "id": "7NdK6hN8QErK",
        "trusted": true
      },
      "outputs": [],
      "source": [
        "# model configuration\n",
        "model_config = {\n",
        "    'vocab_size': len(vocab),\n",
        "    'hidden_dim' : 256,\n",
        "    'embedding_dim' : 200,\n",
        "    'num_classes' : 2,\n",
        "    'n_layers': 2,\n",
        "    'dropout': 0.2\n",
        "}"
      ]
    },
    {
      "cell_type": "code",
      "execution_count": 88,
      "metadata": {
        "execution": {
          "iopub.execute_input": "2023-04-27T07:46:17.304575Z",
          "iopub.status.busy": "2023-04-27T07:46:17.303752Z",
          "iopub.status.idle": "2023-04-27T07:46:17.311319Z",
          "shell.execute_reply": "2023-04-27T07:46:17.309819Z",
          "shell.execute_reply.started": "2023-04-27T07:46:17.304519Z"
        },
        "id": "j7QhjswqQErK",
        "trusted": true
      },
      "outputs": [],
      "source": [
        "train_data = TweetDataset(train['text'], train['target'])\n",
        "train_dataloader = DataLoader(train_data, batch_size=64, shuffle=True)"
      ]
    },
    {
      "cell_type": "code",
      "execution_count": 89,
      "metadata": {
        "colab": {
          "base_uri": "https://localhost:8080/"
        },
        "execution": {
          "iopub.execute_input": "2023-04-27T07:46:19.165481Z",
          "iopub.status.busy": "2023-04-27T07:46:19.164219Z",
          "iopub.status.idle": "2023-04-27T07:46:20.753579Z",
          "shell.execute_reply": "2023-04-27T07:46:20.752308Z",
          "shell.execute_reply.started": "2023-04-27T07:46:19.165431Z"
        },
        "id": "mih-vrFOQErK",
        "outputId": "c8895bb4-d6d0-4917-a1d3-22e6cf1c13e0",
        "trusted": true
      },
      "outputs": [
        {
          "name": "stdout",
          "output_type": "stream",
          "text": [
            "[tensor([[  191,  1122,  2990,  ...,     1,     1,     1],\n",
            "        [    1,   274, 11380,  ...,     1,     1,     1],\n",
            "        [   54,   518,  4206,  ...,     1,     1,     1],\n",
            "        ...,\n",
            "        [ 4056,   605,  1295,  ...,     1,     1,     1],\n",
            "        [    3,    67,    24,  ...,     1,     1,     1],\n",
            "        [  292,   483,  3151,  ...,     1,     1,     1]], device='cuda:0'), tensor([1, 1, 0, 0, 0, 0, 1, 0, 0, 1, 0, 0, 1, 0, 0, 0, 0, 0, 0, 1, 0, 1, 0, 0,\n",
            "        0, 0, 0, 1, 0, 1, 1, 1, 0, 0, 0, 1, 1, 1, 0, 0, 0, 1, 0, 1, 0, 1, 1, 0,\n",
            "        0, 1, 1, 0, 1, 0, 1, 0, 0, 0, 0, 0, 1, 1, 0, 0], device='cuda:0')]\n"
          ]
        }
      ],
      "source": [
        "# batch test\n",
        "for batch in train_dataloader:\n",
        "    print(batch)\n",
        "    break"
      ]
    },
    {
      "cell_type": "markdown",
      "metadata": {
        "id": "XG3LLO44QErL"
      },
      "source": [
        "# Model"
      ]
    },
    {
      "cell_type": "markdown",
      "metadata": {
        "id": "OswgqUX6QErL"
      },
      "source": [
        "# GRU"
      ]
    },
    {
      "cell_type": "code",
      "execution_count": 90,
      "metadata": {
        "execution": {
          "iopub.execute_input": "2023-04-27T07:46:24.973111Z",
          "iopub.status.busy": "2023-04-27T07:46:24.972558Z",
          "iopub.status.idle": "2023-04-27T07:46:24.985549Z",
          "shell.execute_reply": "2023-04-27T07:46:24.984178Z",
          "shell.execute_reply.started": "2023-04-27T07:46:24.973070Z"
        },
        "id": "yumvKPSsQErL",
        "trusted": true
      },
      "outputs": [],
      "source": [
        "# GRU\n",
        "class GRU(nn.Module):\n",
        "    def __init__(self, config):\n",
        "        super(GRU, self).__init__()\n",
        "        self.config = config\n",
        "        self.embedding = nn.Embedding(config['vocab_size'], config['embedding_dim'])\n",
        "        self.gru = nn.GRU(config['embedding_dim'], config['hidden_dim'], bidirectional=True)\n",
        "        self.fc = nn.Linear(config['hidden_dim'] * 2, config['num_classes'])\n",
        "        self.sigmoid = nn.Sigmoid()\n",
        "    \n",
        "    def forward(self, X):\n",
        "        embeds = self.embedding(X).permute(1, 0, 2)\n",
        "        hidden_state = Variable(torch.zeros(2, len(X), self.config['hidden_dim'])).to(device)\n",
        "        cell_state = Variable(torch.zeros(2, len(X), self.config['hidden_dim'])).to(device)\n",
        "        output, (final_hidden_state, final_cell_state) = self.gru(embeds, hidden_state)\n",
        "        output = output.permute(1, 0, 2)\n",
        "        output = self.fc(output[:, -1, :])\n",
        "        return self.sigmoid(output)\n"
      ]
    },
    {
      "cell_type": "code",
      "execution_count": 91,
      "metadata": {
        "execution": {
          "iopub.execute_input": "2023-04-27T07:46:25.888839Z",
          "iopub.status.busy": "2023-04-27T07:46:25.888446Z",
          "iopub.status.idle": "2023-04-27T07:46:25.895521Z",
          "shell.execute_reply": "2023-04-27T07:46:25.894222Z",
          "shell.execute_reply.started": "2023-04-27T07:46:25.888805Z"
        },
        "id": "Vy4-Q4EJQErL",
        "trusted": true
      },
      "outputs": [],
      "source": [
        "# calculate accuracy\n",
        "def binary_accuracy(preds, y):\n",
        "    \"\"\"\n",
        "    Returns accuracy per batch, i.e. if you get 8/10 right, this returns 0.8, NOT 8\n",
        "    \"\"\"\n",
        "    prediction = preds.argmax(dim=1)\n",
        "    correct = (prediction == y).float() #convert into float for division \n",
        "    acc = correct.sum() / len(correct)\n",
        "    return acc"
      ]
    },
    {
      "cell_type": "markdown",
      "metadata": {
        "id": "pXlaqieVQErM"
      },
      "source": [
        "# Training"
      ]
    },
    {
      "cell_type": "code",
      "execution_count": 92,
      "metadata": {
        "execution": {
          "iopub.execute_input": "2023-04-27T07:46:27.267710Z",
          "iopub.status.busy": "2023-04-27T07:46:27.266559Z",
          "iopub.status.idle": "2023-04-27T07:46:27.685197Z",
          "shell.execute_reply": "2023-04-27T07:46:27.683948Z",
          "shell.execute_reply.started": "2023-04-27T07:46:27.267666Z"
        },
        "id": "V6J2Q3hbQErM",
        "trusted": true
      },
      "outputs": [],
      "source": [
        "# make prediction\n",
        "model = GRU(model_config)\n",
        "model.to(device)\n",
        "criterion = nn.CrossEntropyLoss().to(device)\n",
        "optimizer = optim.Adam(model.parameters(), lr = 0.001)"
      ]
    },
    {
      "cell_type": "code",
      "execution_count": 93,
      "metadata": {
        "colab": {
          "base_uri": "https://localhost:8080/"
        },
        "execution": {
          "iopub.execute_input": "2023-04-27T07:46:27.688287Z",
          "iopub.status.busy": "2023-04-27T07:46:27.687763Z",
          "iopub.status.idle": "2023-04-27T07:46:59.659583Z",
          "shell.execute_reply": "2023-04-27T07:46:59.657954Z",
          "shell.execute_reply.started": "2023-04-27T07:46:27.688241Z"
        },
        "id": "2NCWMBj2QErM",
        "outputId": "ad13904f-32e7-4fbe-a2d1-cda8f2510cf8",
        "trusted": true
      },
      "outputs": [
        {
          "name": "stderr",
          "output_type": "stream",
          "text": [
            "100%|██████████| 119/119 [00:01<00:00, 76.91it/s]\n"
          ]
        },
        {
          "name": "stdout",
          "output_type": "stream",
          "text": [
            "The training loss at epoch 0 is 0.670957624912262; The training accuracy is 0.586\n"
          ]
        },
        {
          "name": "stderr",
          "output_type": "stream",
          "text": [
            "100%|██████████| 119/119 [00:01<00:00, 100.60it/s]\n"
          ]
        },
        {
          "name": "stdout",
          "output_type": "stream",
          "text": [
            "The training loss at epoch 1 is 0.5604051947593689; The training accuracy is 0.745\n"
          ]
        },
        {
          "name": "stderr",
          "output_type": "stream",
          "text": [
            "100%|██████████| 119/119 [00:01<00:00, 100.72it/s]\n"
          ]
        },
        {
          "name": "stdout",
          "output_type": "stream",
          "text": [
            "The training loss at epoch 2 is 0.4869329035282135; The training accuracy is 0.822\n"
          ]
        },
        {
          "name": "stderr",
          "output_type": "stream",
          "text": [
            "100%|██████████| 119/119 [00:01<00:00, 97.24it/s]\n"
          ]
        },
        {
          "name": "stdout",
          "output_type": "stream",
          "text": [
            "The training loss at epoch 3 is 0.4432169795036316; The training accuracy is 0.868\n"
          ]
        },
        {
          "name": "stderr",
          "output_type": "stream",
          "text": [
            "100%|██████████| 119/119 [00:01<00:00, 97.99it/s] \n"
          ]
        },
        {
          "name": "stdout",
          "output_type": "stream",
          "text": [
            "The training loss at epoch 4 is 0.4228210747241974; The training accuracy is 0.889\n"
          ]
        },
        {
          "name": "stderr",
          "output_type": "stream",
          "text": [
            "100%|██████████| 119/119 [00:01<00:00, 101.08it/s]\n"
          ]
        },
        {
          "name": "stdout",
          "output_type": "stream",
          "text": [
            "The training loss at epoch 5 is 0.4082796275615692; The training accuracy is 0.904\n"
          ]
        },
        {
          "name": "stderr",
          "output_type": "stream",
          "text": [
            "100%|██████████| 119/119 [00:01<00:00, 101.81it/s]\n"
          ]
        },
        {
          "name": "stdout",
          "output_type": "stream",
          "text": [
            "The training loss at epoch 6 is 0.4007529020309448; The training accuracy is 0.911\n"
          ]
        },
        {
          "name": "stderr",
          "output_type": "stream",
          "text": [
            "100%|██████████| 119/119 [00:01<00:00, 100.88it/s]\n"
          ]
        },
        {
          "name": "stdout",
          "output_type": "stream",
          "text": [
            "The training loss at epoch 7 is 0.39321064949035645; The training accuracy is 0.92\n"
          ]
        },
        {
          "name": "stderr",
          "output_type": "stream",
          "text": [
            "100%|██████████| 119/119 [00:02<00:00, 45.51it/s]\n"
          ]
        },
        {
          "name": "stdout",
          "output_type": "stream",
          "text": [
            "The training loss at epoch 8 is 0.3868984580039978; The training accuracy is 0.926\n"
          ]
        },
        {
          "name": "stderr",
          "output_type": "stream",
          "text": [
            "100%|██████████| 119/119 [00:03<00:00, 31.21it/s]"
          ]
        },
        {
          "name": "stdout",
          "output_type": "stream",
          "text": [
            "The training loss at epoch 9 is 0.3875861167907715; The training accuracy is 0.925\n"
          ]
        },
        {
          "name": "stderr",
          "output_type": "stream",
          "text": [
            "\n"
          ]
        }
      ],
      "source": [
        "# training model\n",
        "epoch_loss = 0\n",
        "epoch_acc = 0\n",
        "for epoch in range(10):\n",
        "    model.train()\n",
        "    optimizer.zero_grad()\n",
        "    for batch in tqdm(train_dataloader):\n",
        "        optimizer.zero_grad()\n",
        "        inputs, target = batch\n",
        "        outputs = model(inputs)\n",
        "        loss = criterion(outputs, target)\n",
        "        loss.backward()\n",
        "        optimizer.step()\n",
        "        epoch_loss += loss\n",
        "        \n",
        "        acc = binary_accuracy(outputs, target)\n",
        "        epoch_acc += acc.item()\n",
        "    \n",
        "    print(\"The training loss at epoch {} is {}; The training accuracy is {}\".format(epoch, epoch_loss / len(train_dataloader), \n",
        "                                                                                    round(epoch_acc/len(train_dataloader), 3)))\n",
        "    epoch_loss = 0\n",
        "    epoch_acc = 0\n"
      ]
    },
    {
      "cell_type": "code",
      "execution_count": 94,
      "metadata": {
        "id": "cePHNXynQErM",
        "trusted": true
      },
      "outputs": [],
      "source": [
        "from sklearn.metrics import f1_score\n",
        "from sklearn.metrics import accuracy_score\n",
        "from sklearn.metrics import recall_score\n",
        "from sklearn.metrics import precision_score"
      ]
    },
    {
      "cell_type": "code",
      "execution_count": 95,
      "metadata": {
        "execution": {
          "iopub.execute_input": "2023-04-27T07:54:30.441217Z",
          "iopub.status.busy": "2023-04-27T07:54:30.440631Z",
          "iopub.status.idle": "2023-04-27T07:54:34.587255Z",
          "shell.execute_reply": "2023-04-27T07:54:34.586043Z",
          "shell.execute_reply.started": "2023-04-27T07:54:30.441167Z"
        },
        "id": "NlDWKR_uQErM",
        "trusted": true
      },
      "outputs": [],
      "source": [
        "# make prediction\n",
        "def generate_prediction(inputs, model):\n",
        "    inputs = torch.tensor(vocab(inputs), dtype=torch.long).to(device).unsqueeze(0)\n",
        "    outpus =  model(inputs).argmax(dim=1).item()\n",
        "    return outpus\n",
        "\n",
        "test['target'] = test['text'].apply(lambda sentence: generate_prediction(sentence, model))"
      ]
    },
    {
      "cell_type": "code",
      "execution_count": 96,
      "metadata": {
        "colab": {
          "base_uri": "https://localhost:8080/"
        },
        "execution": {
          "iopub.execute_input": "2023-04-27T07:55:21.552155Z",
          "iopub.status.busy": "2023-04-27T07:55:21.550984Z",
          "iopub.status.idle": "2023-04-27T07:55:21.567502Z",
          "shell.execute_reply": "2023-04-27T07:55:21.565952Z",
          "shell.execute_reply.started": "2023-04-27T07:55:21.552110Z"
        },
        "id": "VSzTSqDwQErM",
        "outputId": "988a1e99-3ae0-4b1b-866d-6383abd7e4ef",
        "trusted": true
      },
      "outputs": [
        {
          "name": "stdout",
          "output_type": "stream",
          "text": [
            "1453\n"
          ]
        }
      ],
      "source": [
        "# store result\n",
        "submission = test[['id', 'target']]\n",
        "submission.to_csv('submission_gru.csv', index=False)\n",
        "print(sum(test['target']))"
      ]
    },
    {
      "cell_type": "code",
      "execution_count": 97,
      "metadata": {
        "colab": {
          "base_uri": "https://localhost:8080/"
        },
        "id": "EH6vXgFBvahO",
        "outputId": "5a7a663b-2087-4ae7-9959-b8392b8d3147"
      },
      "outputs": [
        {
          "name": "stdout",
          "output_type": "stream",
          "text": [
            "Accuracy rate: 0.7446351931330472\n"
          ]
        }
      ],
      "source": [
        "# calculate test accuracy\n",
        "import pandas as pd\n",
        "# Load the target and submission dataframes\n",
        "target_df = pd.read_csv('./check.csv')\n",
        "submission_df = pd.read_csv('./submission_gru.csv')\n",
        "# Merge the dataframes on the 'id' column\n",
        "merged_df = pd.merge(target_df, submission_df, on='id')\n",
        "# Calculate the accuracy rate\n",
        "accuracy_rate = (merged_df['target_x'] == merged_df['target_y']).mean()\n",
        "print('Accuracy rate:', accuracy_rate)"
      ]
    }
  ],
  "metadata": {
    "accelerator": "GPU",
    "colab": {
      "gpuType": "T4",
      "provenance": []
    },
    "gpuClass": "standard",
    "kernelspec": {
      "display_name": "Python 3",
      "language": "python",
      "name": "python3"
    },
    "language_info": {
      "codemirror_mode": {
        "name": "ipython",
        "version": 3
      },
      "file_extension": ".py",
      "mimetype": "text/x-python",
      "name": "python",
      "nbconvert_exporter": "python",
      "pygments_lexer": "ipython3",
      "version": "3.9.15"
    }
  },
  "nbformat": 4,
  "nbformat_minor": 0
}
