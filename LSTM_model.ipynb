{
  "cells": [
    {
      "cell_type": "code",
      "execution_count": 189,
      "metadata": {
        "colab": {
          "base_uri": "https://localhost:8080/"
        },
        "execution": {
          "iopub.execute_input": "2023-04-27T07:45:37.528664Z",
          "iopub.status.busy": "2023-04-27T07:45:37.527773Z",
          "iopub.status.idle": "2023-04-27T07:45:39.443324Z",
          "shell.execute_reply": "2023-04-27T07:45:39.441939Z",
          "shell.execute_reply.started": "2023-04-27T07:45:37.528620Z"
        },
        "id": "t0PUWjCnIZdw",
        "outputId": "871d8f91-f5d1-4fc1-a44e-1ceccb01782a",
        "trusted": true
      },
      "outputs": [
        {
          "name": "stderr",
          "output_type": "stream",
          "text": [
            "[nltk_data] Downloading package stopwords to /root/nltk_data...\n",
            "[nltk_data]   Package stopwords is already up-to-date!\n",
            "[nltk_data] Downloading package wordnet to /root/nltk_data...\n",
            "[nltk_data]   Package wordnet is already up-to-date!\n"
          ]
        }
      ],
      "source": [
        "# import package\n",
        "from tqdm import tqdm\n",
        "import numpy as np\n",
        "import random\n",
        "import pandas as pd\n",
        "import nltk\n",
        "from nltk.stem import WordNetLemmatizer\n",
        "import re\n",
        "import matplotlib.pyplot as plt\n",
        "import seaborn as sns\n",
        "from sklearn.utils import shuffle\n",
        "import torch\n",
        "import torch.nn as nn\n",
        "import torch.optim as optim\n",
        "from torch.autograd import Variable\n",
        "import torch.nn.functional as F\n",
        "import string\n",
        "from torch.utils.data import Dataset, DataLoader\n",
        "import torchtext\n",
        "from torchtext.data.utils import get_tokenizer\n",
        "from torchtext.vocab import build_vocab_from_iterator\n",
        "nltk.download('stopwords')\n",
        "nltk.download(\"wordnet\")\n",
        "from sklearn.model_selection import train_test_split\n",
        "import warnings\n",
        "warnings.filterwarnings(\"ignore\")"
      ]
    },
    {
      "cell_type": "code",
      "execution_count": 190,
      "metadata": {
        "execution": {
          "iopub.execute_input": "2023-04-27T07:45:41.624036Z",
          "iopub.status.busy": "2023-04-27T07:45:41.623435Z",
          "iopub.status.idle": "2023-04-27T07:46:01.404263Z",
          "shell.execute_reply": "2023-04-27T07:46:01.402780Z",
          "shell.execute_reply.started": "2023-04-27T07:45:41.623998Z"
        },
        "id": "_900xw8_IZd1",
        "trusted": true
      },
      "outputs": [],
      "source": [
        "# ! unzip /usr/share/nltk_data/corpora/wordnet.zip -d /usr/share/nltk_data/corpora/"
      ]
    },
    {
      "cell_type": "code",
      "execution_count": 191,
      "metadata": {
        "colab": {
          "base_uri": "https://localhost:8080/"
        },
        "id": "ch4LZD8QIhxL",
        "outputId": "1f2dc131-6fc7-4d27-fe3f-fb24a208cfbb"
      },
      "outputs": [
        {
          "name": "stdout",
          "output_type": "stream",
          "text": [
            "Looking in indexes: https://pypi.org/simple, https://us-python.pkg.dev/colab-wheels/public/simple/\n",
            "Requirement already satisfied: transformers in /usr/local/lib/python3.10/dist-packages (4.28.1)\n",
            "Requirement already satisfied: tqdm>=4.27 in /usr/local/lib/python3.10/dist-packages (from transformers) (4.65.0)\n",
            "Requirement already satisfied: pyyaml>=5.1 in /usr/local/lib/python3.10/dist-packages (from transformers) (6.0)\n",
            "Requirement already satisfied: tokenizers!=0.11.3,<0.14,>=0.11.1 in /usr/local/lib/python3.10/dist-packages (from transformers) (0.13.3)\n",
            "Requirement already satisfied: huggingface-hub<1.0,>=0.11.0 in /usr/local/lib/python3.10/dist-packages (from transformers) (0.14.1)\n",
            "Requirement already satisfied: packaging>=20.0 in /usr/local/lib/python3.10/dist-packages (from transformers) (23.1)\n",
            "Requirement already satisfied: requests in /usr/local/lib/python3.10/dist-packages (from transformers) (2.27.1)\n",
            "Requirement already satisfied: regex!=2019.12.17 in /usr/local/lib/python3.10/dist-packages (from transformers) (2022.10.31)\n",
            "Requirement already satisfied: numpy>=1.17 in /usr/local/lib/python3.10/dist-packages (from transformers) (1.22.4)\n",
            "Requirement already satisfied: filelock in /usr/local/lib/python3.10/dist-packages (from transformers) (3.12.0)\n",
            "Requirement already satisfied: fsspec in /usr/local/lib/python3.10/dist-packages (from huggingface-hub<1.0,>=0.11.0->transformers) (2023.4.0)\n",
            "Requirement already satisfied: typing-extensions>=3.7.4.3 in /usr/local/lib/python3.10/dist-packages (from huggingface-hub<1.0,>=0.11.0->transformers) (4.5.0)\n",
            "Requirement already satisfied: idna<4,>=2.5 in /usr/local/lib/python3.10/dist-packages (from requests->transformers) (3.4)\n",
            "Requirement already satisfied: certifi>=2017.4.17 in /usr/local/lib/python3.10/dist-packages (from requests->transformers) (2022.12.7)\n",
            "Requirement already satisfied: charset-normalizer~=2.0.0 in /usr/local/lib/python3.10/dist-packages (from requests->transformers) (2.0.12)\n",
            "Requirement already satisfied: urllib3<1.27,>=1.21.1 in /usr/local/lib/python3.10/dist-packages (from requests->transformers) (1.26.15)\n"
          ]
        }
      ],
      "source": [
        "!pip install transformers"
      ]
    },
    {
      "cell_type": "code",
      "execution_count": 192,
      "metadata": {
        "colab": {
          "base_uri": "https://localhost:8080/"
        },
        "execution": {
          "iopub.execute_input": "2023-04-27T07:46:03.669242Z",
          "iopub.status.busy": "2023-04-27T07:46:03.667963Z",
          "iopub.status.idle": "2023-04-27T07:46:03.707151Z",
          "shell.execute_reply": "2023-04-27T07:46:03.705947Z",
          "shell.execute_reply.started": "2023-04-27T07:46:03.669193Z"
        },
        "id": "J-mbL9QMIZd2",
        "outputId": "d5515d1a-8731-4f12-dfcb-1df5859accee",
        "trusted": true
      },
      "outputs": [
        {
          "data": {
            "text/plain": [
              "device(type='cuda', index=0)"
            ]
          },
          "execution_count": 192,
          "metadata": {},
          "output_type": "execute_result"
        }
      ],
      "source": [
        "# setting seed\n",
        "def seed_everything(seed):\n",
        "    random.seed(seed)\n",
        "    np.random.seed(seed)\n",
        "    torch.manual_seed(seed)\n",
        "    torch.cuda.manual_seed_all(seed)\n",
        "    return seed\n",
        "\n",
        "seed_everything(42)\n",
        "MAX_LENGTH = 30\n",
        "device = torch.device(\"cuda:0\" if torch.cuda.is_available() else \"cpu\")\n",
        "device"
      ]
    },
    {
      "cell_type": "code",
      "execution_count": 193,
      "metadata": {
        "execution": {
          "iopub.execute_input": "2023-04-27T07:46:06.356043Z",
          "iopub.status.busy": "2023-04-27T07:46:06.355608Z",
          "iopub.status.idle": "2023-04-27T07:46:06.402586Z",
          "shell.execute_reply": "2023-04-27T07:46:06.401381Z",
          "shell.execute_reply.started": "2023-04-27T07:46:06.356006Z"
        },
        "id": "bpKODmtNIZd3",
        "trusted": true
      },
      "outputs": [],
      "source": [
        "# import dataset\n",
        "train= pd.read_csv('./train.csv')\n",
        "test= pd.read_csv(\"./test.csv\")"
      ]
    },
    {
      "cell_type": "code",
      "execution_count": 194,
      "metadata": {
        "execution": {
          "iopub.execute_input": "2023-04-27T07:46:06.741075Z",
          "iopub.status.busy": "2023-04-27T07:46:06.739980Z",
          "iopub.status.idle": "2023-04-27T07:46:06.751808Z",
          "shell.execute_reply": "2023-04-27T07:46:06.749444Z",
          "shell.execute_reply.started": "2023-04-27T07:46:06.741026Z"
        },
        "id": "kZqNamMAIZd3",
        "trusted": true
      },
      "outputs": [],
      "source": [
        "# data cleaning\n",
        "def remove_emoji(string):\n",
        "    emoji_pattern = re.compile(\"[\"\n",
        "                           u\"\\U0001F600-\\U0001F64F\"  # emoticons\n",
        "                           u\"\\U0001F300-\\U0001F5FF\"  # symbols & pictographs\n",
        "                           u\"\\U0001F680-\\U0001F6FF\"  # transport & map symbols\n",
        "                           u\"\\U0001F1E0-\\U0001F1FF\"  # flags (iOS)\n",
        "                           u\"\\U00002702-\\U000027B0\"\n",
        "                           u\"\\U000024C2-\\U0001F251\"\n",
        "                           \"]+\", flags=re.UNICODE)\n",
        "    return emoji_pattern.sub(r' ', string)\n",
        "\n",
        "def clean_sentence(sentence):\n",
        "    # remove URLS \n",
        "    sentence = re.sub(r'http\\S+', ' ', sentence)\n",
        "    # remove emoji's\n",
        "    sentence = remove_emoji(sentence)\n",
        "    # remove punctuation\n",
        "    sentence = re.sub(\"[^0-9A-Za-z ]\", \"\" , sentence)\n",
        "    # remove double spaces\n",
        "    sentence = sentence.replace('  ',\"\")\n",
        "    \n",
        "    return sentence.strip()\n",
        "\n",
        "def remove_stopwords(tokens, stopwords):\n",
        "    clean_token = [word for word in tokens if word not in stopwords]\n",
        "    return clean_token\n",
        "\n",
        "# lemmalization \n",
        "def lemmatize(tokens, lemma):\n",
        "    lemmatized_tokens = [lemma.lemmatize(token, pos = 'v') for token in tokens]\n",
        "    return lemmatized_tokens"
      ]
    },
    {
      "cell_type": "code",
      "execution_count": 195,
      "metadata": {
        "execution": {
          "iopub.execute_input": "2023-04-27T07:46:06.986553Z",
          "iopub.status.busy": "2023-04-27T07:46:06.985790Z",
          "iopub.status.idle": "2023-04-27T07:46:06.993621Z",
          "shell.execute_reply": "2023-04-27T07:46:06.992211Z",
          "shell.execute_reply.started": "2023-04-27T07:46:06.986503Z"
        },
        "id": "zPRRL4oXIZd4",
        "trusted": true
      },
      "outputs": [],
      "source": [
        "# fix sentence length\n",
        "def trunc_padding(sentence):\n",
        "    modify_sentence = sentence.copy()\n",
        "    if len(modify_sentence) >= MAX_LENGTH:\n",
        "        modify_sentence = modify_sentence[:MAX_LENGTH]\n",
        "    else:\n",
        "        modify_sentence.extend(list([\"0\"] * (MAX_LENGTH - len(modify_sentence))))\n",
        "    return modify_sentence"
      ]
    },
    {
      "cell_type": "code",
      "execution_count": 196,
      "metadata": {
        "execution": {
          "iopub.execute_input": "2023-04-27T07:46:07.193695Z",
          "iopub.status.busy": "2023-04-27T07:46:07.192896Z",
          "iopub.status.idle": "2023-04-27T07:46:10.269619Z",
          "shell.execute_reply": "2023-04-27T07:46:10.268413Z",
          "shell.execute_reply.started": "2023-04-27T07:46:07.193654Z"
        },
        "id": "OQf262GCIZd4",
        "trusted": true
      },
      "outputs": [],
      "source": [
        "# processing data cleaning\n",
        "stopwords = nltk.corpus.stopwords.words('english')\n",
        "lemma = WordNetLemmatizer()\n",
        "\n",
        "def processing(df, stopwords, lemma):\n",
        "    df['text'] = df['text'].apply(lambda sentence: sentence.lower())\n",
        "    df['text'] = df['text'].apply(lambda sentence: clean_sentence(sentence))\n",
        "    # tokenization\n",
        "    df['text'] = df['text'].apply(lambda sentence: sentence.split())\n",
        "    # remove stopwords\n",
        "    df['text'] = df['text'].apply(lambda sentence: remove_stopwords(sentence, stopwords))\n",
        "    # lemmalization \n",
        "    df['text'] = df['text'].apply(lambda sentence: lemmatize(sentence, lemma))\n",
        "    # sentence length before padding\n",
        "    df['length'] = df['text'].apply(lambda x: len(x))\n",
        "    # fix sentence length\n",
        "    df['text'] = df['text'].apply(lambda sentence: trunc_padding(sentence))\n",
        "    # sentence length after padding\n",
        "    df['length_padding'] = df['text'].apply(lambda x: len(x))\n",
        "    \n",
        "processing(train, stopwords, lemma)\n",
        "processing(test, stopwords, lemma)"
      ]
    },
    {
      "cell_type": "code",
      "execution_count": 197,
      "metadata": {
        "colab": {
          "base_uri": "https://localhost:8080/",
          "height": 204
        },
        "execution": {
          "iopub.execute_input": "2023-04-27T07:46:10.273037Z",
          "iopub.status.busy": "2023-04-27T07:46:10.272330Z",
          "iopub.status.idle": "2023-04-27T07:46:10.294293Z",
          "shell.execute_reply": "2023-04-27T07:46:10.293008Z",
          "shell.execute_reply.started": "2023-04-27T07:46:10.272992Z"
        },
        "id": "R7a1LNNLIZd5",
        "outputId": "be41eb25-fd3c-4475-a721-14470cae2fa6",
        "trusted": true
      },
      "outputs": [
        {
          "data": {
            "text/html": [
              "\n",
              "  <div id=\"df-fccad1c7-3c2e-4246-9157-0b33627f4a13\">\n",
              "    <div class=\"colab-df-container\">\n",
              "      <div>\n",
              "<style scoped>\n",
              "    .dataframe tbody tr th:only-of-type {\n",
              "        vertical-align: middle;\n",
              "    }\n",
              "\n",
              "    .dataframe tbody tr th {\n",
              "        vertical-align: top;\n",
              "    }\n",
              "\n",
              "    .dataframe thead th {\n",
              "        text-align: right;\n",
              "    }\n",
              "</style>\n",
              "<table border=\"1\" class=\"dataframe\">\n",
              "  <thead>\n",
              "    <tr style=\"text-align: right;\">\n",
              "      <th></th>\n",
              "      <th>id</th>\n",
              "      <th>keyword</th>\n",
              "      <th>location</th>\n",
              "      <th>text</th>\n",
              "      <th>target</th>\n",
              "      <th>length</th>\n",
              "      <th>length_padding</th>\n",
              "    </tr>\n",
              "  </thead>\n",
              "  <tbody>\n",
              "    <tr>\n",
              "      <th>0</th>\n",
              "      <td>1</td>\n",
              "      <td>NaN</td>\n",
              "      <td>NaN</td>\n",
              "      <td>[deeds, reason, earthquake, may, allah, forgiv...</td>\n",
              "      <td>1</td>\n",
              "      <td>7</td>\n",
              "      <td>30</td>\n",
              "    </tr>\n",
              "    <tr>\n",
              "      <th>1</th>\n",
              "      <td>4</td>\n",
              "      <td>NaN</td>\n",
              "      <td>NaN</td>\n",
              "      <td>[forest, fire, near, la, ronge, sask, canada, ...</td>\n",
              "      <td>1</td>\n",
              "      <td>7</td>\n",
              "      <td>30</td>\n",
              "    </tr>\n",
              "    <tr>\n",
              "      <th>2</th>\n",
              "      <td>5</td>\n",
              "      <td>NaN</td>\n",
              "      <td>NaN</td>\n",
              "      <td>[residents, ask, shelter, place, notify, offic...</td>\n",
              "      <td>1</td>\n",
              "      <td>11</td>\n",
              "      <td>30</td>\n",
              "    </tr>\n",
              "    <tr>\n",
              "      <th>3</th>\n",
              "      <td>6</td>\n",
              "      <td>NaN</td>\n",
              "      <td>NaN</td>\n",
              "      <td>[13000, people, receive, wildfires, evacuation...</td>\n",
              "      <td>1</td>\n",
              "      <td>7</td>\n",
              "      <td>30</td>\n",
              "    </tr>\n",
              "    <tr>\n",
              "      <th>4</th>\n",
              "      <td>7</td>\n",
              "      <td>NaN</td>\n",
              "      <td>NaN</td>\n",
              "      <td>[get, send, photo, ruby, alaska, smoke, wildfi...</td>\n",
              "      <td>1</td>\n",
              "      <td>9</td>\n",
              "      <td>30</td>\n",
              "    </tr>\n",
              "  </tbody>\n",
              "</table>\n",
              "</div>\n",
              "      <button class=\"colab-df-convert\" onclick=\"convertToInteractive('df-fccad1c7-3c2e-4246-9157-0b33627f4a13')\"\n",
              "              title=\"Convert this dataframe to an interactive table.\"\n",
              "              style=\"display:none;\">\n",
              "        \n",
              "  <svg xmlns=\"http://www.w3.org/2000/svg\" height=\"24px\"viewBox=\"0 0 24 24\"\n",
              "       width=\"24px\">\n",
              "    <path d=\"M0 0h24v24H0V0z\" fill=\"none\"/>\n",
              "    <path d=\"M18.56 5.44l.94 2.06.94-2.06 2.06-.94-2.06-.94-.94-2.06-.94 2.06-2.06.94zm-11 1L8.5 8.5l.94-2.06 2.06-.94-2.06-.94L8.5 2.5l-.94 2.06-2.06.94zm10 10l.94 2.06.94-2.06 2.06-.94-2.06-.94-.94-2.06-.94 2.06-2.06.94z\"/><path d=\"M17.41 7.96l-1.37-1.37c-.4-.4-.92-.59-1.43-.59-.52 0-1.04.2-1.43.59L10.3 9.45l-7.72 7.72c-.78.78-.78 2.05 0 2.83L4 21.41c.39.39.9.59 1.41.59.51 0 1.02-.2 1.41-.59l7.78-7.78 2.81-2.81c.8-.78.8-2.07 0-2.86zM5.41 20L4 18.59l7.72-7.72 1.47 1.35L5.41 20z\"/>\n",
              "  </svg>\n",
              "      </button>\n",
              "      \n",
              "  <style>\n",
              "    .colab-df-container {\n",
              "      display:flex;\n",
              "      flex-wrap:wrap;\n",
              "      gap: 12px;\n",
              "    }\n",
              "\n",
              "    .colab-df-convert {\n",
              "      background-color: #E8F0FE;\n",
              "      border: none;\n",
              "      border-radius: 50%;\n",
              "      cursor: pointer;\n",
              "      display: none;\n",
              "      fill: #1967D2;\n",
              "      height: 32px;\n",
              "      padding: 0 0 0 0;\n",
              "      width: 32px;\n",
              "    }\n",
              "\n",
              "    .colab-df-convert:hover {\n",
              "      background-color: #E2EBFA;\n",
              "      box-shadow: 0px 1px 2px rgba(60, 64, 67, 0.3), 0px 1px 3px 1px rgba(60, 64, 67, 0.15);\n",
              "      fill: #174EA6;\n",
              "    }\n",
              "\n",
              "    [theme=dark] .colab-df-convert {\n",
              "      background-color: #3B4455;\n",
              "      fill: #D2E3FC;\n",
              "    }\n",
              "\n",
              "    [theme=dark] .colab-df-convert:hover {\n",
              "      background-color: #434B5C;\n",
              "      box-shadow: 0px 1px 3px 1px rgba(0, 0, 0, 0.15);\n",
              "      filter: drop-shadow(0px 1px 2px rgba(0, 0, 0, 0.3));\n",
              "      fill: #FFFFFF;\n",
              "    }\n",
              "  </style>\n",
              "\n",
              "      <script>\n",
              "        const buttonEl =\n",
              "          document.querySelector('#df-fccad1c7-3c2e-4246-9157-0b33627f4a13 button.colab-df-convert');\n",
              "        buttonEl.style.display =\n",
              "          google.colab.kernel.accessAllowed ? 'block' : 'none';\n",
              "\n",
              "        async function convertToInteractive(key) {\n",
              "          const element = document.querySelector('#df-fccad1c7-3c2e-4246-9157-0b33627f4a13');\n",
              "          const dataTable =\n",
              "            await google.colab.kernel.invokeFunction('convertToInteractive',\n",
              "                                                     [key], {});\n",
              "          if (!dataTable) return;\n",
              "\n",
              "          const docLinkHtml = 'Like what you see? Visit the ' +\n",
              "            '<a target=\"_blank\" href=https://colab.research.google.com/notebooks/data_table.ipynb>data table notebook</a>'\n",
              "            + ' to learn more about interactive tables.';\n",
              "          element.innerHTML = '';\n",
              "          dataTable['output_type'] = 'display_data';\n",
              "          await google.colab.output.renderOutput(dataTable, element);\n",
              "          const docLink = document.createElement('div');\n",
              "          docLink.innerHTML = docLinkHtml;\n",
              "          element.appendChild(docLink);\n",
              "        }\n",
              "      </script>\n",
              "    </div>\n",
              "  </div>\n",
              "  "
            ],
            "text/plain": [
              "   id keyword location                                               text  \\\n",
              "0   1     NaN      NaN  [deeds, reason, earthquake, may, allah, forgiv...   \n",
              "1   4     NaN      NaN  [forest, fire, near, la, ronge, sask, canada, ...   \n",
              "2   5     NaN      NaN  [residents, ask, shelter, place, notify, offic...   \n",
              "3   6     NaN      NaN  [13000, people, receive, wildfires, evacuation...   \n",
              "4   7     NaN      NaN  [get, send, photo, ruby, alaska, smoke, wildfi...   \n",
              "\n",
              "   target  length  length_padding  \n",
              "0       1       7              30  \n",
              "1       1       7              30  \n",
              "2       1      11              30  \n",
              "3       1       7              30  \n",
              "4       1       9              30  "
            ]
          },
          "execution_count": 197,
          "metadata": {},
          "output_type": "execute_result"
        }
      ],
      "source": [
        "train.head()"
      ]
    },
    {
      "cell_type": "code",
      "execution_count": 198,
      "metadata": {
        "colab": {
          "base_uri": "https://localhost:8080/",
          "height": 204
        },
        "execution": {
          "iopub.execute_input": "2023-04-27T07:46:10.298063Z",
          "iopub.status.busy": "2023-04-27T07:46:10.297197Z",
          "iopub.status.idle": "2023-04-27T07:46:10.315916Z",
          "shell.execute_reply": "2023-04-27T07:46:10.314557Z",
          "shell.execute_reply.started": "2023-04-27T07:46:10.298015Z"
        },
        "id": "gRICuBZLIZd5",
        "outputId": "490e857b-af39-4acf-da56-611dc51ebfcd",
        "trusted": true
      },
      "outputs": [
        {
          "data": {
            "text/html": [
              "\n",
              "  <div id=\"df-9d1508ef-b78d-4e8e-a7ce-4d32ded43d3c\">\n",
              "    <div class=\"colab-df-container\">\n",
              "      <div>\n",
              "<style scoped>\n",
              "    .dataframe tbody tr th:only-of-type {\n",
              "        vertical-align: middle;\n",
              "    }\n",
              "\n",
              "    .dataframe tbody tr th {\n",
              "        vertical-align: top;\n",
              "    }\n",
              "\n",
              "    .dataframe thead th {\n",
              "        text-align: right;\n",
              "    }\n",
              "</style>\n",
              "<table border=\"1\" class=\"dataframe\">\n",
              "  <thead>\n",
              "    <tr style=\"text-align: right;\">\n",
              "      <th></th>\n",
              "      <th>id</th>\n",
              "      <th>keyword</th>\n",
              "      <th>location</th>\n",
              "      <th>text</th>\n",
              "      <th>length</th>\n",
              "      <th>length_padding</th>\n",
              "    </tr>\n",
              "  </thead>\n",
              "  <tbody>\n",
              "    <tr>\n",
              "      <th>0</th>\n",
              "      <td>0</td>\n",
              "      <td>NaN</td>\n",
              "      <td>NaN</td>\n",
              "      <td>[happen, terrible, car, crash, 0, 0, 0, 0, 0, ...</td>\n",
              "      <td>4</td>\n",
              "      <td>30</td>\n",
              "    </tr>\n",
              "    <tr>\n",
              "      <th>1</th>\n",
              "      <td>2</td>\n",
              "      <td>NaN</td>\n",
              "      <td>NaN</td>\n",
              "      <td>[hear, earthquake, different, cities, stay, sa...</td>\n",
              "      <td>7</td>\n",
              "      <td>30</td>\n",
              "    </tr>\n",
              "    <tr>\n",
              "      <th>2</th>\n",
              "      <td>3</td>\n",
              "      <td>NaN</td>\n",
              "      <td>NaN</td>\n",
              "      <td>[forest, fire, spot, pond, geese, flee, across...</td>\n",
              "      <td>10</td>\n",
              "      <td>30</td>\n",
              "    </tr>\n",
              "    <tr>\n",
              "      <th>3</th>\n",
              "      <td>9</td>\n",
              "      <td>NaN</td>\n",
              "      <td>NaN</td>\n",
              "      <td>[apocalypse, light, spokane, wildfires, 0, 0, ...</td>\n",
              "      <td>4</td>\n",
              "      <td>30</td>\n",
              "    </tr>\n",
              "    <tr>\n",
              "      <th>4</th>\n",
              "      <td>11</td>\n",
              "      <td>NaN</td>\n",
              "      <td>NaN</td>\n",
              "      <td>[typhoon, soudelor, kill, 28, china, taiwan, 0...</td>\n",
              "      <td>6</td>\n",
              "      <td>30</td>\n",
              "    </tr>\n",
              "  </tbody>\n",
              "</table>\n",
              "</div>\n",
              "      <button class=\"colab-df-convert\" onclick=\"convertToInteractive('df-9d1508ef-b78d-4e8e-a7ce-4d32ded43d3c')\"\n",
              "              title=\"Convert this dataframe to an interactive table.\"\n",
              "              style=\"display:none;\">\n",
              "        \n",
              "  <svg xmlns=\"http://www.w3.org/2000/svg\" height=\"24px\"viewBox=\"0 0 24 24\"\n",
              "       width=\"24px\">\n",
              "    <path d=\"M0 0h24v24H0V0z\" fill=\"none\"/>\n",
              "    <path d=\"M18.56 5.44l.94 2.06.94-2.06 2.06-.94-2.06-.94-.94-2.06-.94 2.06-2.06.94zm-11 1L8.5 8.5l.94-2.06 2.06-.94-2.06-.94L8.5 2.5l-.94 2.06-2.06.94zm10 10l.94 2.06.94-2.06 2.06-.94-2.06-.94-.94-2.06-.94 2.06-2.06.94z\"/><path d=\"M17.41 7.96l-1.37-1.37c-.4-.4-.92-.59-1.43-.59-.52 0-1.04.2-1.43.59L10.3 9.45l-7.72 7.72c-.78.78-.78 2.05 0 2.83L4 21.41c.39.39.9.59 1.41.59.51 0 1.02-.2 1.41-.59l7.78-7.78 2.81-2.81c.8-.78.8-2.07 0-2.86zM5.41 20L4 18.59l7.72-7.72 1.47 1.35L5.41 20z\"/>\n",
              "  </svg>\n",
              "      </button>\n",
              "      \n",
              "  <style>\n",
              "    .colab-df-container {\n",
              "      display:flex;\n",
              "      flex-wrap:wrap;\n",
              "      gap: 12px;\n",
              "    }\n",
              "\n",
              "    .colab-df-convert {\n",
              "      background-color: #E8F0FE;\n",
              "      border: none;\n",
              "      border-radius: 50%;\n",
              "      cursor: pointer;\n",
              "      display: none;\n",
              "      fill: #1967D2;\n",
              "      height: 32px;\n",
              "      padding: 0 0 0 0;\n",
              "      width: 32px;\n",
              "    }\n",
              "\n",
              "    .colab-df-convert:hover {\n",
              "      background-color: #E2EBFA;\n",
              "      box-shadow: 0px 1px 2px rgba(60, 64, 67, 0.3), 0px 1px 3px 1px rgba(60, 64, 67, 0.15);\n",
              "      fill: #174EA6;\n",
              "    }\n",
              "\n",
              "    [theme=dark] .colab-df-convert {\n",
              "      background-color: #3B4455;\n",
              "      fill: #D2E3FC;\n",
              "    }\n",
              "\n",
              "    [theme=dark] .colab-df-convert:hover {\n",
              "      background-color: #434B5C;\n",
              "      box-shadow: 0px 1px 3px 1px rgba(0, 0, 0, 0.15);\n",
              "      filter: drop-shadow(0px 1px 2px rgba(0, 0, 0, 0.3));\n",
              "      fill: #FFFFFF;\n",
              "    }\n",
              "  </style>\n",
              "\n",
              "      <script>\n",
              "        const buttonEl =\n",
              "          document.querySelector('#df-9d1508ef-b78d-4e8e-a7ce-4d32ded43d3c button.colab-df-convert');\n",
              "        buttonEl.style.display =\n",
              "          google.colab.kernel.accessAllowed ? 'block' : 'none';\n",
              "\n",
              "        async function convertToInteractive(key) {\n",
              "          const element = document.querySelector('#df-9d1508ef-b78d-4e8e-a7ce-4d32ded43d3c');\n",
              "          const dataTable =\n",
              "            await google.colab.kernel.invokeFunction('convertToInteractive',\n",
              "                                                     [key], {});\n",
              "          if (!dataTable) return;\n",
              "\n",
              "          const docLinkHtml = 'Like what you see? Visit the ' +\n",
              "            '<a target=\"_blank\" href=https://colab.research.google.com/notebooks/data_table.ipynb>data table notebook</a>'\n",
              "            + ' to learn more about interactive tables.';\n",
              "          element.innerHTML = '';\n",
              "          dataTable['output_type'] = 'display_data';\n",
              "          await google.colab.output.renderOutput(dataTable, element);\n",
              "          const docLink = document.createElement('div');\n",
              "          docLink.innerHTML = docLinkHtml;\n",
              "          element.appendChild(docLink);\n",
              "        }\n",
              "      </script>\n",
              "    </div>\n",
              "  </div>\n",
              "  "
            ],
            "text/plain": [
              "   id keyword location                                               text  \\\n",
              "0   0     NaN      NaN  [happen, terrible, car, crash, 0, 0, 0, 0, 0, ...   \n",
              "1   2     NaN      NaN  [hear, earthquake, different, cities, stay, sa...   \n",
              "2   3     NaN      NaN  [forest, fire, spot, pond, geese, flee, across...   \n",
              "3   9     NaN      NaN  [apocalypse, light, spokane, wildfires, 0, 0, ...   \n",
              "4  11     NaN      NaN  [typhoon, soudelor, kill, 28, china, taiwan, 0...   \n",
              "\n",
              "   length  length_padding  \n",
              "0       4              30  \n",
              "1       7              30  \n",
              "2      10              30  \n",
              "3       4              30  \n",
              "4       6              30  "
            ]
          },
          "execution_count": 198,
          "metadata": {},
          "output_type": "execute_result"
        }
      ],
      "source": [
        "test.head()"
      ]
    },
    {
      "cell_type": "markdown",
      "metadata": {
        "id": "Ic0UHgppIZd6"
      },
      "source": [
        "## Assign unique index to each word, used for word embedding"
      ]
    },
    {
      "cell_type": "code",
      "execution_count": 199,
      "metadata": {
        "execution": {
          "iopub.execute_input": "2023-04-27T07:46:12.668161Z",
          "iopub.status.busy": "2023-04-27T07:46:12.667572Z",
          "iopub.status.idle": "2023-04-27T07:46:12.900087Z",
          "shell.execute_reply": "2023-04-27T07:46:12.898739Z",
          "shell.execute_reply.started": "2023-04-27T07:46:12.668107Z"
        },
        "id": "ib6rfucrIZd7",
        "trusted": true
      },
      "outputs": [],
      "source": [
        "# get all vocabulary\n",
        "vocab_list = []\n",
        "for sentence in train['text']:\n",
        "    vocab_list.append(sentence)\n",
        "vocab = build_vocab_from_iterator(vocab_list, specials=[\"<unk>\"])\n",
        "vocab.set_default_index(vocab[\"<unk>\"])"
      ]
    },
    {
      "cell_type": "markdown",
      "metadata": {
        "id": "qJxHoLZHIZd7"
      },
      "source": [
        "### Dataset and DataLoader"
      ]
    },
    {
      "cell_type": "code",
      "execution_count": 200,
      "metadata": {
        "execution": {
          "iopub.execute_input": "2023-04-27T07:46:14.103933Z",
          "iopub.status.busy": "2023-04-27T07:46:14.102930Z",
          "iopub.status.idle": "2023-04-27T07:46:14.112541Z",
          "shell.execute_reply": "2023-04-27T07:46:14.111081Z",
          "shell.execute_reply.started": "2023-04-27T07:46:14.103855Z"
        },
        "id": "6SNL5dLbIZd8",
        "trusted": true
      },
      "outputs": [],
      "source": [
        "class TweetDataset(Dataset):\n",
        "    def __init__(self, x, y):\n",
        "        self.x = x\n",
        "        self.y = y \n",
        "    \n",
        "    def __len__(self):\n",
        "        return len(self.y)\n",
        "    \n",
        "    def __getitem__(self, idx):\n",
        "        sentence = self.x[idx]\n",
        "        x = torch.tensor(vocab(sentence), dtype=torch.long).to(device)\n",
        "        y = torch.tensor(self.y[idx], dtype=torch.long).to(device)\n",
        "        return x, y"
      ]
    },
    {
      "cell_type": "code",
      "execution_count": 201,
      "metadata": {
        "execution": {
          "iopub.execute_input": "2023-04-27T07:46:16.713521Z",
          "iopub.status.busy": "2023-04-27T07:46:16.712731Z",
          "iopub.status.idle": "2023-04-27T07:46:16.719486Z",
          "shell.execute_reply": "2023-04-27T07:46:16.718066Z",
          "shell.execute_reply.started": "2023-04-27T07:46:16.713476Z"
        },
        "id": "nLbTIIKaIZd8",
        "trusted": true
      },
      "outputs": [],
      "source": [
        "# model configuration\n",
        "model_config = {\n",
        "    'vocab_size': len(vocab),\n",
        "    'hidden_dim' : 256,\n",
        "    'embedding_dim' : 200,\n",
        "    'num_classes' : 2,\n",
        "    'n_layers': 2,\n",
        "    'dropout': 0.2\n",
        "}"
      ]
    },
    {
      "cell_type": "code",
      "execution_count": 202,
      "metadata": {
        "execution": {
          "iopub.execute_input": "2023-04-27T07:46:17.304575Z",
          "iopub.status.busy": "2023-04-27T07:46:17.303752Z",
          "iopub.status.idle": "2023-04-27T07:46:17.311319Z",
          "shell.execute_reply": "2023-04-27T07:46:17.309819Z",
          "shell.execute_reply.started": "2023-04-27T07:46:17.304519Z"
        },
        "id": "y_F4dTLGIZd8",
        "trusted": true
      },
      "outputs": [],
      "source": [
        "train_data = TweetDataset(train['text'], train['target'])\n",
        "train_dataloader = DataLoader(train_data, batch_size=64, shuffle=True)"
      ]
    },
    {
      "cell_type": "code",
      "execution_count": 203,
      "metadata": {
        "colab": {
          "base_uri": "https://localhost:8080/"
        },
        "execution": {
          "iopub.execute_input": "2023-04-27T07:46:19.165481Z",
          "iopub.status.busy": "2023-04-27T07:46:19.164219Z",
          "iopub.status.idle": "2023-04-27T07:46:20.753579Z",
          "shell.execute_reply": "2023-04-27T07:46:20.752308Z",
          "shell.execute_reply.started": "2023-04-27T07:46:19.165431Z"
        },
        "id": "5_BgNhifIZd9",
        "outputId": "d398239f-499b-41d0-ca2b-ec009ecbb2ab",
        "trusted": true
      },
      "outputs": [
        {
          "name": "stdout",
          "output_type": "stream",
          "text": [
            "[tensor([[  191,  1122,  2990,  ...,     1,     1,     1],\n",
            "        [    1,   274, 11380,  ...,     1,     1,     1],\n",
            "        [   54,   518,  4206,  ...,     1,     1,     1],\n",
            "        ...,\n",
            "        [ 4056,   605,  1295,  ...,     1,     1,     1],\n",
            "        [    3,    67,    24,  ...,     1,     1,     1],\n",
            "        [  292,   483,  3151,  ...,     1,     1,     1]], device='cuda:0'), tensor([1, 1, 0, 0, 0, 0, 1, 0, 0, 1, 0, 0, 1, 0, 0, 0, 0, 0, 0, 1, 0, 1, 0, 0,\n",
            "        0, 0, 0, 1, 0, 1, 1, 1, 0, 0, 0, 1, 1, 1, 0, 0, 0, 1, 0, 1, 0, 1, 1, 0,\n",
            "        0, 1, 1, 0, 1, 0, 1, 0, 0, 0, 0, 0, 1, 1, 0, 0], device='cuda:0')]\n"
          ]
        }
      ],
      "source": [
        "# batch test\n",
        "for batch in train_dataloader:\n",
        "    print(batch)\n",
        "    break"
      ]
    },
    {
      "cell_type": "markdown",
      "metadata": {
        "id": "fP0JqkyxIZd9"
      },
      "source": [
        "# Model"
      ]
    },
    {
      "cell_type": "markdown",
      "metadata": {
        "id": "ZIFw3YAGIZd9"
      },
      "source": [
        "# LSTM"
      ]
    },
    {
      "cell_type": "code",
      "execution_count": 204,
      "metadata": {
        "execution": {
          "iopub.execute_input": "2023-04-27T07:46:24.973111Z",
          "iopub.status.busy": "2023-04-27T07:46:24.972558Z",
          "iopub.status.idle": "2023-04-27T07:46:24.985549Z",
          "shell.execute_reply": "2023-04-27T07:46:24.984178Z",
          "shell.execute_reply.started": "2023-04-27T07:46:24.973070Z"
        },
        "id": "wgiT4q_XIZd-",
        "trusted": true
      },
      "outputs": [],
      "source": [
        "# LSTM\n",
        "class LSTM(nn.Module):\n",
        "    def __init__(self, config):\n",
        "        super(LSTM, self).__init__()\n",
        "        self.config = config\n",
        "        self.embedding = nn.Embedding(config['vocab_size'], config['embedding_dim'])\n",
        "        self.lstm = nn.LSTM(config['embedding_dim'], config['hidden_dim'], bidirectional=True)\n",
        "        self.fc = nn.Linear(config['hidden_dim'] * 2, config['num_classes'])\n",
        "        self.sigmoid = nn.Sigmoid()\n",
        "    \n",
        "    def forward(self, X):\n",
        "        embeds = self.embedding(X).permute(1, 0, 2)\n",
        "        hidden_state = Variable(torch.zeros(2, len(X), self.config['hidden_dim'])).to(device)\n",
        "        cell_state = Variable(torch.zeros(2, len(X), self.config['hidden_dim'])).to(device)\n",
        "        output, (final_hidden_state, final_cell_state) = self.lstm(embeds, (hidden_state, cell_state))\n",
        "        output = output.permute(1, 0, 2)\n",
        "        output = self.fc(output[:, -1, :])\n",
        "        return self.sigmoid(output)\n"
      ]
    },
    {
      "cell_type": "code",
      "execution_count": 205,
      "metadata": {
        "execution": {
          "iopub.execute_input": "2023-04-27T07:46:25.888839Z",
          "iopub.status.busy": "2023-04-27T07:46:25.888446Z",
          "iopub.status.idle": "2023-04-27T07:46:25.895521Z",
          "shell.execute_reply": "2023-04-27T07:46:25.894222Z",
          "shell.execute_reply.started": "2023-04-27T07:46:25.888805Z"
        },
        "id": "9tCOUg1BIZd-",
        "trusted": true
      },
      "outputs": [],
      "source": [
        "# calculate accuracy\n",
        "def binary_accuracy(preds, y):\n",
        "    \"\"\"\n",
        "    Returns accuracy per batch, i.e. if you get 8/10 right, this returns 0.8, NOT 8\n",
        "    \"\"\"\n",
        "    prediction = preds.argmax(dim=1)\n",
        "    correct = (prediction == y).float() #convert into float for division \n",
        "    acc = correct.sum() / len(correct)\n",
        "    return acc"
      ]
    },
    {
      "cell_type": "markdown",
      "metadata": {
        "id": "kTDLFKBpIZd-"
      },
      "source": [
        "# Training"
      ]
    },
    {
      "cell_type": "code",
      "execution_count": 206,
      "metadata": {
        "execution": {
          "iopub.execute_input": "2023-04-27T07:46:27.267710Z",
          "iopub.status.busy": "2023-04-27T07:46:27.266559Z",
          "iopub.status.idle": "2023-04-27T07:46:27.685197Z",
          "shell.execute_reply": "2023-04-27T07:46:27.683948Z",
          "shell.execute_reply.started": "2023-04-27T07:46:27.267666Z"
        },
        "id": "I9LK9bIgIZd_",
        "trusted": true
      },
      "outputs": [],
      "source": [
        "# make prediction\n",
        "model = LSTM(model_config)\n",
        "model.to(device)\n",
        "criterion = nn.CrossEntropyLoss().to(device)\n",
        "optimizer = optim.Adam(model.parameters(), lr = 0.0001)"
      ]
    },
    {
      "cell_type": "code",
      "execution_count": 207,
      "metadata": {
        "colab": {
          "base_uri": "https://localhost:8080/"
        },
        "execution": {
          "iopub.execute_input": "2023-04-27T07:46:27.688287Z",
          "iopub.status.busy": "2023-04-27T07:46:27.687763Z",
          "iopub.status.idle": "2023-04-27T07:46:59.659583Z",
          "shell.execute_reply": "2023-04-27T07:46:59.657954Z",
          "shell.execute_reply.started": "2023-04-27T07:46:27.688241Z"
        },
        "id": "i2UMUO3BIZd_",
        "outputId": "85f04c6c-8573-49bd-d272-a765f15d98d5",
        "trusted": true
      },
      "outputs": [
        {
          "name": "stderr",
          "output_type": "stream",
          "text": [
            "100%|██████████| 119/119 [00:02<00:00, 57.48it/s]\n"
          ]
        },
        {
          "name": "stdout",
          "output_type": "stream",
          "text": [
            "The training loss at epoch 0 is 0.6837310791015625; The training accuracy is 0.57\n"
          ]
        },
        {
          "name": "stderr",
          "output_type": "stream",
          "text": [
            "100%|██████████| 119/119 [00:01<00:00, 71.90it/s]\n"
          ]
        },
        {
          "name": "stdout",
          "output_type": "stream",
          "text": [
            "The training loss at epoch 1 is 0.6843092441558838; The training accuracy is 0.57\n"
          ]
        },
        {
          "name": "stderr",
          "output_type": "stream",
          "text": [
            "100%|██████████| 119/119 [00:01<00:00, 70.28it/s]\n"
          ]
        },
        {
          "name": "stdout",
          "output_type": "stream",
          "text": [
            "The training loss at epoch 2 is 0.6833924651145935; The training accuracy is 0.57\n"
          ]
        },
        {
          "name": "stderr",
          "output_type": "stream",
          "text": [
            "100%|██████████| 119/119 [00:01<00:00, 89.83it/s]\n"
          ]
        },
        {
          "name": "stdout",
          "output_type": "stream",
          "text": [
            "The training loss at epoch 3 is 0.6833621859550476; The training accuracy is 0.57\n"
          ]
        },
        {
          "name": "stderr",
          "output_type": "stream",
          "text": [
            "100%|██████████| 119/119 [00:01<00:00, 76.34it/s]\n"
          ]
        },
        {
          "name": "stdout",
          "output_type": "stream",
          "text": [
            "The training loss at epoch 4 is 0.6833123564720154; The training accuracy is 0.57\n"
          ]
        },
        {
          "name": "stderr",
          "output_type": "stream",
          "text": [
            "100%|██████████| 119/119 [00:02<00:00, 49.54it/s]\n"
          ]
        },
        {
          "name": "stdout",
          "output_type": "stream",
          "text": [
            "The training loss at epoch 5 is 0.6834205389022827; The training accuracy is 0.57\n"
          ]
        },
        {
          "name": "stderr",
          "output_type": "stream",
          "text": [
            "100%|██████████| 119/119 [00:02<00:00, 54.45it/s]\n"
          ]
        },
        {
          "name": "stdout",
          "output_type": "stream",
          "text": [
            "The training loss at epoch 6 is 0.6836889982223511; The training accuracy is 0.57\n"
          ]
        },
        {
          "name": "stderr",
          "output_type": "stream",
          "text": [
            "100%|██████████| 119/119 [00:02<00:00, 44.27it/s]\n"
          ]
        },
        {
          "name": "stdout",
          "output_type": "stream",
          "text": [
            "The training loss at epoch 7 is 0.6834478378295898; The training accuracy is 0.57\n"
          ]
        },
        {
          "name": "stderr",
          "output_type": "stream",
          "text": [
            "100%|██████████| 119/119 [00:04<00:00, 28.89it/s]\n"
          ]
        },
        {
          "name": "stdout",
          "output_type": "stream",
          "text": [
            "The training loss at epoch 8 is 0.6834715604782104; The training accuracy is 0.57\n"
          ]
        },
        {
          "name": "stderr",
          "output_type": "stream",
          "text": [
            "100%|██████████| 119/119 [00:02<00:00, 55.24it/s]\n"
          ]
        },
        {
          "name": "stdout",
          "output_type": "stream",
          "text": [
            "The training loss at epoch 9 is 0.683359682559967; The training accuracy is 0.57\n"
          ]
        },
        {
          "name": "stderr",
          "output_type": "stream",
          "text": [
            "100%|██████████| 119/119 [00:01<00:00, 90.22it/s]\n"
          ]
        },
        {
          "name": "stdout",
          "output_type": "stream",
          "text": [
            "The training loss at epoch 10 is 0.683571457862854; The training accuracy is 0.57\n"
          ]
        },
        {
          "name": "stderr",
          "output_type": "stream",
          "text": [
            "100%|██████████| 119/119 [00:01<00:00, 90.61it/s]\n"
          ]
        },
        {
          "name": "stdout",
          "output_type": "stream",
          "text": [
            "The training loss at epoch 11 is 0.6836053133010864; The training accuracy is 0.57\n"
          ]
        },
        {
          "name": "stderr",
          "output_type": "stream",
          "text": [
            "100%|██████████| 119/119 [00:01<00:00, 90.49it/s]\n"
          ]
        },
        {
          "name": "stdout",
          "output_type": "stream",
          "text": [
            "The training loss at epoch 12 is 0.6835066080093384; The training accuracy is 0.57\n"
          ]
        },
        {
          "name": "stderr",
          "output_type": "stream",
          "text": [
            "100%|██████████| 119/119 [00:01<00:00, 88.52it/s]\n"
          ]
        },
        {
          "name": "stdout",
          "output_type": "stream",
          "text": [
            "The training loss at epoch 13 is 0.683297336101532; The training accuracy is 0.57\n"
          ]
        },
        {
          "name": "stderr",
          "output_type": "stream",
          "text": [
            "100%|██████████| 119/119 [00:01<00:00, 90.79it/s]\n"
          ]
        },
        {
          "name": "stdout",
          "output_type": "stream",
          "text": [
            "The training loss at epoch 14 is 0.683529794216156; The training accuracy is 0.57\n"
          ]
        },
        {
          "name": "stderr",
          "output_type": "stream",
          "text": [
            "100%|██████████| 119/119 [00:01<00:00, 84.34it/s]\n"
          ]
        },
        {
          "name": "stdout",
          "output_type": "stream",
          "text": [
            "The training loss at epoch 15 is 0.6833383440971375; The training accuracy is 0.57\n"
          ]
        },
        {
          "name": "stderr",
          "output_type": "stream",
          "text": [
            "100%|██████████| 119/119 [00:01<00:00, 75.31it/s]\n"
          ]
        },
        {
          "name": "stdout",
          "output_type": "stream",
          "text": [
            "The training loss at epoch 16 is 0.6833451390266418; The training accuracy is 0.57\n"
          ]
        },
        {
          "name": "stderr",
          "output_type": "stream",
          "text": [
            "100%|██████████| 119/119 [00:01<00:00, 70.87it/s]\n"
          ]
        },
        {
          "name": "stdout",
          "output_type": "stream",
          "text": [
            "The training loss at epoch 17 is 0.683358371257782; The training accuracy is 0.57\n"
          ]
        },
        {
          "name": "stderr",
          "output_type": "stream",
          "text": [
            "100%|██████████| 119/119 [00:01<00:00, 83.75it/s]\n"
          ]
        },
        {
          "name": "stdout",
          "output_type": "stream",
          "text": [
            "The training loss at epoch 18 is 0.6835150122642517; The training accuracy is 0.57\n"
          ]
        },
        {
          "name": "stderr",
          "output_type": "stream",
          "text": [
            "100%|██████████| 119/119 [00:01<00:00, 88.93it/s]\n"
          ]
        },
        {
          "name": "stdout",
          "output_type": "stream",
          "text": [
            "The training loss at epoch 19 is 0.6833348870277405; The training accuracy is 0.57\n"
          ]
        },
        {
          "name": "stderr",
          "output_type": "stream",
          "text": [
            "100%|██████████| 119/119 [00:01<00:00, 88.84it/s]\n"
          ]
        },
        {
          "name": "stdout",
          "output_type": "stream",
          "text": [
            "The training loss at epoch 20 is 0.6835203766822815; The training accuracy is 0.57\n"
          ]
        },
        {
          "name": "stderr",
          "output_type": "stream",
          "text": [
            "100%|██████████| 119/119 [00:01<00:00, 89.71it/s]\n"
          ]
        },
        {
          "name": "stdout",
          "output_type": "stream",
          "text": [
            "The training loss at epoch 21 is 0.6833205819129944; The training accuracy is 0.57\n"
          ]
        },
        {
          "name": "stderr",
          "output_type": "stream",
          "text": [
            "100%|██████████| 119/119 [00:01<00:00, 88.26it/s]\n"
          ]
        },
        {
          "name": "stdout",
          "output_type": "stream",
          "text": [
            "The training loss at epoch 22 is 0.6834391355514526; The training accuracy is 0.57\n"
          ]
        },
        {
          "name": "stderr",
          "output_type": "stream",
          "text": [
            "100%|██████████| 119/119 [00:01<00:00, 89.28it/s]\n"
          ]
        },
        {
          "name": "stdout",
          "output_type": "stream",
          "text": [
            "The training loss at epoch 23 is 0.6831712126731873; The training accuracy is 0.57\n"
          ]
        },
        {
          "name": "stderr",
          "output_type": "stream",
          "text": [
            "100%|██████████| 119/119 [00:01<00:00, 88.71it/s]\n"
          ]
        },
        {
          "name": "stdout",
          "output_type": "stream",
          "text": [
            "The training loss at epoch 24 is 0.683596670627594; The training accuracy is 0.57\n"
          ]
        },
        {
          "name": "stderr",
          "output_type": "stream",
          "text": [
            "100%|██████████| 119/119 [00:01<00:00, 83.77it/s]\n"
          ]
        },
        {
          "name": "stdout",
          "output_type": "stream",
          "text": [
            "The training loss at epoch 25 is 0.6831653118133545; The training accuracy is 0.57\n"
          ]
        },
        {
          "name": "stderr",
          "output_type": "stream",
          "text": [
            "100%|██████████| 119/119 [00:01<00:00, 74.27it/s]\n"
          ]
        },
        {
          "name": "stdout",
          "output_type": "stream",
          "text": [
            "The training loss at epoch 26 is 0.6389124989509583; The training accuracy is 0.641\n"
          ]
        },
        {
          "name": "stderr",
          "output_type": "stream",
          "text": [
            "100%|██████████| 119/119 [00:01<00:00, 69.20it/s]\n"
          ]
        },
        {
          "name": "stdout",
          "output_type": "stream",
          "text": [
            "The training loss at epoch 27 is 0.6010403633117676; The training accuracy is 0.711\n"
          ]
        },
        {
          "name": "stderr",
          "output_type": "stream",
          "text": [
            "100%|██████████| 119/119 [00:01<00:00, 84.97it/s]\n"
          ]
        },
        {
          "name": "stdout",
          "output_type": "stream",
          "text": [
            "The training loss at epoch 28 is 0.5904188752174377; The training accuracy is 0.716\n"
          ]
        },
        {
          "name": "stderr",
          "output_type": "stream",
          "text": [
            "100%|██████████| 119/119 [00:01<00:00, 89.56it/s]\n"
          ]
        },
        {
          "name": "stdout",
          "output_type": "stream",
          "text": [
            "The training loss at epoch 29 is 0.5624426007270813; The training accuracy is 0.737\n"
          ]
        },
        {
          "name": "stderr",
          "output_type": "stream",
          "text": [
            "100%|██████████| 119/119 [00:01<00:00, 89.46it/s]\n"
          ]
        },
        {
          "name": "stdout",
          "output_type": "stream",
          "text": [
            "The training loss at epoch 30 is 0.5403903126716614; The training accuracy is 0.768\n"
          ]
        },
        {
          "name": "stderr",
          "output_type": "stream",
          "text": [
            "100%|██████████| 119/119 [00:01<00:00, 89.56it/s]\n"
          ]
        },
        {
          "name": "stdout",
          "output_type": "stream",
          "text": [
            "The training loss at epoch 31 is 0.5246132016181946; The training accuracy is 0.782\n"
          ]
        },
        {
          "name": "stderr",
          "output_type": "stream",
          "text": [
            "100%|██████████| 119/119 [00:01<00:00, 89.59it/s]\n"
          ]
        },
        {
          "name": "stdout",
          "output_type": "stream",
          "text": [
            "The training loss at epoch 32 is 0.514898955821991; The training accuracy is 0.796\n"
          ]
        },
        {
          "name": "stderr",
          "output_type": "stream",
          "text": [
            "100%|██████████| 119/119 [00:01<00:00, 87.51it/s]\n"
          ]
        },
        {
          "name": "stdout",
          "output_type": "stream",
          "text": [
            "The training loss at epoch 33 is 0.500304102897644; The training accuracy is 0.813\n"
          ]
        },
        {
          "name": "stderr",
          "output_type": "stream",
          "text": [
            "100%|██████████| 119/119 [00:01<00:00, 88.97it/s]\n"
          ]
        },
        {
          "name": "stdout",
          "output_type": "stream",
          "text": [
            "The training loss at epoch 34 is 0.4919881820678711; The training accuracy is 0.821\n"
          ]
        },
        {
          "name": "stderr",
          "output_type": "stream",
          "text": [
            "100%|██████████| 119/119 [00:01<00:00, 82.01it/s]\n"
          ]
        },
        {
          "name": "stdout",
          "output_type": "stream",
          "text": [
            "The training loss at epoch 35 is 0.48344212770462036; The training accuracy is 0.829\n"
          ]
        },
        {
          "name": "stderr",
          "output_type": "stream",
          "text": [
            "100%|██████████| 119/119 [00:01<00:00, 75.42it/s]\n"
          ]
        },
        {
          "name": "stdout",
          "output_type": "stream",
          "text": [
            "The training loss at epoch 36 is 0.4818303883075714; The training accuracy is 0.831\n"
          ]
        },
        {
          "name": "stderr",
          "output_type": "stream",
          "text": [
            "100%|██████████| 119/119 [00:01<00:00, 69.67it/s]\n"
          ]
        },
        {
          "name": "stdout",
          "output_type": "stream",
          "text": [
            "The training loss at epoch 37 is 0.4815959632396698; The training accuracy is 0.831\n"
          ]
        },
        {
          "name": "stderr",
          "output_type": "stream",
          "text": [
            "100%|██████████| 119/119 [00:01<00:00, 88.33it/s]\n"
          ]
        },
        {
          "name": "stdout",
          "output_type": "stream",
          "text": [
            "The training loss at epoch 38 is 0.47745808959007263; The training accuracy is 0.835\n"
          ]
        },
        {
          "name": "stderr",
          "output_type": "stream",
          "text": [
            "100%|██████████| 119/119 [00:01<00:00, 89.10it/s]\n"
          ]
        },
        {
          "name": "stdout",
          "output_type": "stream",
          "text": [
            "The training loss at epoch 39 is 0.47385215759277344; The training accuracy is 0.84\n"
          ]
        },
        {
          "name": "stderr",
          "output_type": "stream",
          "text": [
            "100%|██████████| 119/119 [00:01<00:00, 89.64it/s]\n"
          ]
        },
        {
          "name": "stdout",
          "output_type": "stream",
          "text": [
            "The training loss at epoch 40 is 0.4665173590183258; The training accuracy is 0.846\n"
          ]
        },
        {
          "name": "stderr",
          "output_type": "stream",
          "text": [
            "100%|██████████| 119/119 [00:01<00:00, 89.88it/s]\n"
          ]
        },
        {
          "name": "stdout",
          "output_type": "stream",
          "text": [
            "The training loss at epoch 41 is 0.46056485176086426; The training accuracy is 0.853\n"
          ]
        },
        {
          "name": "stderr",
          "output_type": "stream",
          "text": [
            "100%|██████████| 119/119 [00:01<00:00, 89.75it/s]\n"
          ]
        },
        {
          "name": "stdout",
          "output_type": "stream",
          "text": [
            "The training loss at epoch 42 is 0.45922642946243286; The training accuracy is 0.854\n"
          ]
        },
        {
          "name": "stderr",
          "output_type": "stream",
          "text": [
            "100%|██████████| 119/119 [00:01<00:00, 88.89it/s]\n"
          ]
        },
        {
          "name": "stdout",
          "output_type": "stream",
          "text": [
            "The training loss at epoch 43 is 0.45935872197151184; The training accuracy is 0.854\n"
          ]
        },
        {
          "name": "stderr",
          "output_type": "stream",
          "text": [
            "100%|██████████| 119/119 [00:01<00:00, 88.63it/s]\n"
          ]
        },
        {
          "name": "stdout",
          "output_type": "stream",
          "text": [
            "The training loss at epoch 44 is 0.4595402181148529; The training accuracy is 0.854\n"
          ]
        },
        {
          "name": "stderr",
          "output_type": "stream",
          "text": [
            "100%|██████████| 119/119 [00:01<00:00, 80.42it/s]\n"
          ]
        },
        {
          "name": "stdout",
          "output_type": "stream",
          "text": [
            "The training loss at epoch 45 is 0.45841580629348755; The training accuracy is 0.854\n"
          ]
        },
        {
          "name": "stderr",
          "output_type": "stream",
          "text": [
            "100%|██████████| 119/119 [00:01<00:00, 74.68it/s]\n"
          ]
        },
        {
          "name": "stdout",
          "output_type": "stream",
          "text": [
            "The training loss at epoch 46 is 0.45642560720443726; The training accuracy is 0.857\n"
          ]
        },
        {
          "name": "stderr",
          "output_type": "stream",
          "text": [
            "100%|██████████| 119/119 [00:01<00:00, 68.74it/s]\n"
          ]
        },
        {
          "name": "stdout",
          "output_type": "stream",
          "text": [
            "The training loss at epoch 47 is 0.4601326584815979; The training accuracy is 0.853\n"
          ]
        },
        {
          "name": "stderr",
          "output_type": "stream",
          "text": [
            "100%|██████████| 119/119 [00:01<00:00, 88.41it/s]\n"
          ]
        },
        {
          "name": "stdout",
          "output_type": "stream",
          "text": [
            "The training loss at epoch 48 is 0.4955037236213684; The training accuracy is 0.817\n"
          ]
        },
        {
          "name": "stderr",
          "output_type": "stream",
          "text": [
            "100%|██████████| 119/119 [00:01<00:00, 89.40it/s]"
          ]
        },
        {
          "name": "stdout",
          "output_type": "stream",
          "text": [
            "The training loss at epoch 49 is 0.4859210252761841; The training accuracy is 0.827\n"
          ]
        },
        {
          "name": "stderr",
          "output_type": "stream",
          "text": [
            "\n"
          ]
        }
      ],
      "source": [
        "# training model\n",
        "epoch_loss = 0\n",
        "epoch_acc = 0\n",
        "for epoch in range(50):\n",
        "    model.train()\n",
        "    optimizer.zero_grad()\n",
        "    for batch in tqdm(train_dataloader):\n",
        "        optimizer.zero_grad()\n",
        "        inputs, target = batch\n",
        "        outputs = model(inputs)\n",
        "        loss = criterion(outputs, target)\n",
        "        loss.backward()\n",
        "        optimizer.step()\n",
        "        epoch_loss += loss\n",
        "        \n",
        "        acc = binary_accuracy(outputs, target)\n",
        "        epoch_acc += acc.item()\n",
        "    \n",
        "    print(\"The training loss at epoch {} is {}; The training accuracy is {}\".format(epoch, epoch_loss / len(train_dataloader), \n",
        "                                                                                    round(epoch_acc/len(train_dataloader), 3)))\n",
        "    epoch_loss = 0\n",
        "    epoch_acc = 0\n"
      ]
    },
    {
      "cell_type": "code",
      "execution_count": 208,
      "metadata": {
        "id": "xTC9dXOnIZeA",
        "trusted": true
      },
      "outputs": [],
      "source": [
        "from sklearn.metrics import f1_score\n",
        "from sklearn.metrics import accuracy_score\n",
        "from sklearn.metrics import recall_score\n",
        "from sklearn.metrics import precision_score"
      ]
    },
    {
      "cell_type": "code",
      "execution_count": 209,
      "metadata": {
        "execution": {
          "iopub.execute_input": "2023-04-27T07:54:30.441217Z",
          "iopub.status.busy": "2023-04-27T07:54:30.440631Z",
          "iopub.status.idle": "2023-04-27T07:54:34.587255Z",
          "shell.execute_reply": "2023-04-27T07:54:34.586043Z",
          "shell.execute_reply.started": "2023-04-27T07:54:30.441167Z"
        },
        "id": "9nhLtGaKIZeA",
        "trusted": true
      },
      "outputs": [],
      "source": [
        "# make prediction\n",
        "def generate_prediction(inputs, model):\n",
        "    inputs = torch.tensor(vocab(inputs), dtype=torch.long).to(device).unsqueeze(0)\n",
        "    outpus =  model(inputs).argmax(dim=1).item()\n",
        "    return outpus\n",
        "\n",
        "test['target'] = test['text'].apply(lambda sentence: generate_prediction(sentence, model))"
      ]
    },
    {
      "cell_type": "code",
      "execution_count": 210,
      "metadata": {
        "colab": {
          "base_uri": "https://localhost:8080/"
        },
        "execution": {
          "iopub.execute_input": "2023-04-27T07:55:21.552155Z",
          "iopub.status.busy": "2023-04-27T07:55:21.550984Z",
          "iopub.status.idle": "2023-04-27T07:55:21.567502Z",
          "shell.execute_reply": "2023-04-27T07:55:21.565952Z",
          "shell.execute_reply.started": "2023-04-27T07:55:21.552110Z"
        },
        "id": "IrmAR6EeIZeA",
        "outputId": "ae156b6d-972d-440c-9216-51d639d76691",
        "trusted": true
      },
      "outputs": [
        {
          "name": "stdout",
          "output_type": "stream",
          "text": [
            "1242\n"
          ]
        }
      ],
      "source": [
        "# store result\n",
        "submission = test[['id', 'target']]\n",
        "submission.to_csv('submission_lstm.csv', index=False)\n",
        "print(sum(test['target']))"
      ]
    },
    {
      "cell_type": "code",
      "execution_count": 1,
      "metadata": {},
      "outputs": [
        {
          "name": "stdout",
          "output_type": "stream",
          "text": [
            "Accuracy rate: 0.7225628448804414\n"
          ]
        }
      ],
      "source": [
        "# calculate test accuracy\n",
        "import pandas as pd\n",
        "# Load the target and submission dataframes\n",
        "target_df = pd.read_csv('./check.csv')\n",
        "submission_df = pd.read_csv('./submission_lstm.csv')\n",
        "# Merge the dataframes on the 'id' column\n",
        "merged_df = pd.merge(target_df, submission_df, on='id')\n",
        "# Calculate the accuracy rate\n",
        "accuracy_rate = (merged_df['target_x'] == merged_df['target_y']).mean()\n",
        "print('Accuracy rate:', accuracy_rate)"
      ]
    }
  ],
  "metadata": {
    "accelerator": "GPU",
    "colab": {
      "gpuType": "T4",
      "provenance": []
    },
    "gpuClass": "standard",
    "kernelspec": {
      "display_name": "Python 3",
      "language": "python",
      "name": "python3"
    },
    "language_info": {
      "codemirror_mode": {
        "name": "ipython",
        "version": 3
      },
      "file_extension": ".py",
      "mimetype": "text/x-python",
      "name": "python",
      "nbconvert_exporter": "python",
      "pygments_lexer": "ipython3",
      "version": "3.9.15"
    }
  },
  "nbformat": 4,
  "nbformat_minor": 0
}
