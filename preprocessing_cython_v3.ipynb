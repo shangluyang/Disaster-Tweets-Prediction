{
  "nbformat": 4,
  "nbformat_minor": 0,
  "metadata": {
    "colab": {
      "provenance": []
    },
    "kernelspec": {
      "name": "python3",
      "display_name": "Python 3"
    },
    "language_info": {
      "name": "python"
    },
    "accelerator": "GPU",
    "gpuClass": "standard"
  },
  "cells": [
    {
      "cell_type": "code",
      "execution_count": 1,
      "metadata": {
        "id": "1vgKRvVQe_21"
      },
      "outputs": [],
      "source": [
        "%load_ext Cython"
      ]
    },
    {
      "cell_type": "code",
      "source": [
        "!pip install line_profiler==3.3.1\n",
        "%load_ext line_profiler"
      ],
      "metadata": {
        "colab": {
          "base_uri": "https://localhost:8080/"
        },
        "id": "Zh3D-q5ghJck",
        "outputId": "0626a580-21f0-4542-fbb0-8b23e9f46740"
      },
      "execution_count": 2,
      "outputs": [
        {
          "output_type": "stream",
          "name": "stdout",
          "text": [
            "Looking in indexes: https://pypi.org/simple, https://us-python.pkg.dev/colab-wheels/public/simple/\n",
            "Requirement already satisfied: line_profiler==3.3.1 in /usr/local/lib/python3.10/dist-packages (3.3.1)\n",
            "Requirement already satisfied: IPython>=0.13 in /usr/local/lib/python3.10/dist-packages (from line_profiler==3.3.1) (7.34.0)\n",
            "Requirement already satisfied: backcall in /usr/local/lib/python3.10/dist-packages (from IPython>=0.13->line_profiler==3.3.1) (0.2.0)\n",
            "Requirement already satisfied: jedi>=0.16 in /usr/local/lib/python3.10/dist-packages (from IPython>=0.13->line_profiler==3.3.1) (0.18.2)\n",
            "Requirement already satisfied: matplotlib-inline in /usr/local/lib/python3.10/dist-packages (from IPython>=0.13->line_profiler==3.3.1) (0.1.6)\n",
            "Requirement already satisfied: decorator in /usr/local/lib/python3.10/dist-packages (from IPython>=0.13->line_profiler==3.3.1) (4.4.2)\n",
            "Requirement already satisfied: pickleshare in /usr/local/lib/python3.10/dist-packages (from IPython>=0.13->line_profiler==3.3.1) (0.7.5)\n",
            "Requirement already satisfied: setuptools>=18.5 in /usr/local/lib/python3.10/dist-packages (from IPython>=0.13->line_profiler==3.3.1) (67.7.2)\n",
            "Requirement already satisfied: prompt-toolkit!=3.0.0,!=3.0.1,<3.1.0,>=2.0.0 in /usr/local/lib/python3.10/dist-packages (from IPython>=0.13->line_profiler==3.3.1) (3.0.38)\n",
            "Requirement already satisfied: traitlets>=4.2 in /usr/local/lib/python3.10/dist-packages (from IPython>=0.13->line_profiler==3.3.1) (5.7.1)\n",
            "Requirement already satisfied: pexpect>4.3 in /usr/local/lib/python3.10/dist-packages (from IPython>=0.13->line_profiler==3.3.1) (4.8.0)\n",
            "Requirement already satisfied: pygments in /usr/local/lib/python3.10/dist-packages (from IPython>=0.13->line_profiler==3.3.1) (2.14.0)\n",
            "Requirement already satisfied: parso<0.9.0,>=0.8.0 in /usr/local/lib/python3.10/dist-packages (from jedi>=0.16->IPython>=0.13->line_profiler==3.3.1) (0.8.3)\n",
            "Requirement already satisfied: ptyprocess>=0.5 in /usr/local/lib/python3.10/dist-packages (from pexpect>4.3->IPython>=0.13->line_profiler==3.3.1) (0.7.0)\n",
            "Requirement already satisfied: wcwidth in /usr/local/lib/python3.10/dist-packages (from prompt-toolkit!=3.0.0,!=3.0.1,<3.1.0,>=2.0.0->IPython>=0.13->line_profiler==3.3.1) (0.2.6)\n"
          ]
        }
      ]
    },
    {
      "cell_type": "code",
      "source": [
        "from tqdm import tqdm\n",
        "import numpy as np\n",
        "import random\n",
        "import pandas as pd\n",
        "import nltk\n",
        "from nltk.stem import WordNetLemmatizer\n",
        "import re\n",
        "import matplotlib.pyplot as plt\n",
        "import seaborn as sns\n",
        "from sklearn.utils import shuffle\n",
        "import torch\n",
        "import torch.nn as nn\n",
        "import torch.optim as optim\n",
        "from torch.autograd import Variable\n",
        "import torch.nn.functional as F\n",
        "import string\n",
        "from torch.utils.data import Dataset, DataLoader\n",
        "import torchtext\n",
        "from torchtext.data.utils import get_tokenizer\n",
        "from torchtext.vocab import build_vocab_from_iterator\n",
        "nltk.download('stopwords')\n",
        "nltk.download(\"wordnet\")"
      ],
      "metadata": {
        "colab": {
          "base_uri": "https://localhost:8080/"
        },
        "id": "7jYyHrV2fqCf",
        "outputId": "0db7eca8-90bd-4806-b22d-92f2160d67de"
      },
      "execution_count": 6,
      "outputs": [
        {
          "output_type": "stream",
          "name": "stderr",
          "text": [
            "[nltk_data] Downloading package stopwords to /root/nltk_data...\n",
            "[nltk_data]   Package stopwords is already up-to-date!\n",
            "[nltk_data] Downloading package wordnet to /root/nltk_data...\n",
            "[nltk_data]   Package wordnet is already up-to-date!\n"
          ]
        },
        {
          "output_type": "execute_result",
          "data": {
            "text/plain": [
              "True"
            ]
          },
          "metadata": {},
          "execution_count": 6
        }
      ]
    },
    {
      "cell_type": "code",
      "source": [
        "! unzip /root/nltk_data/corpora/wordnet.zip -d /root/nltk_data/corpora/"
      ],
      "metadata": {
        "id": "FmfN8_vafyQH",
        "colab": {
          "base_uri": "https://localhost:8080/"
        },
        "outputId": "673fabf5-11a3-49bd-8596-579b60f1d8ea"
      },
      "execution_count": 3,
      "outputs": [
        {
          "output_type": "stream",
          "name": "stdout",
          "text": [
            "Archive:  /root/nltk_data/corpora/wordnet.zip\n",
            "   creating: /root/nltk_data/corpora/wordnet/\n",
            "  inflating: /root/nltk_data/corpora/wordnet/lexnames  \n",
            "  inflating: /root/nltk_data/corpora/wordnet/data.verb  \n",
            "  inflating: /root/nltk_data/corpora/wordnet/index.adv  \n",
            "  inflating: /root/nltk_data/corpora/wordnet/adv.exc  \n",
            "  inflating: /root/nltk_data/corpora/wordnet/index.verb  \n",
            "  inflating: /root/nltk_data/corpora/wordnet/cntlist.rev  \n",
            "  inflating: /root/nltk_data/corpora/wordnet/data.adj  \n",
            "  inflating: /root/nltk_data/corpora/wordnet/index.adj  \n",
            "  inflating: /root/nltk_data/corpora/wordnet/LICENSE  \n",
            "  inflating: /root/nltk_data/corpora/wordnet/citation.bib  \n",
            "  inflating: /root/nltk_data/corpora/wordnet/noun.exc  \n",
            "  inflating: /root/nltk_data/corpora/wordnet/verb.exc  \n",
            "  inflating: /root/nltk_data/corpora/wordnet/README  \n",
            "  inflating: /root/nltk_data/corpora/wordnet/index.sense  \n",
            "  inflating: /root/nltk_data/corpora/wordnet/data.noun  \n",
            "  inflating: /root/nltk_data/corpora/wordnet/data.adv  \n",
            "  inflating: /root/nltk_data/corpora/wordnet/index.noun  \n",
            "  inflating: /root/nltk_data/corpora/wordnet/adj.exc  \n"
          ]
        }
      ]
    },
    {
      "cell_type": "code",
      "source": [
        "def seed_everything(seed):\n",
        "    random.seed(seed)\n",
        "    np.random.seed(seed)\n",
        "    torch.manual_seed(seed)\n",
        "    torch.cuda.manual_seed_all(seed)\n",
        "    return seed"
      ],
      "metadata": {
        "id": "XKWaIOWWf8ij"
      },
      "execution_count": 7,
      "outputs": []
    },
    {
      "cell_type": "code",
      "source": [
        "seed_everything(42)"
      ],
      "metadata": {
        "colab": {
          "base_uri": "https://localhost:8080/"
        },
        "id": "zSxgCNpbgVTg",
        "outputId": "2210d2cb-b5f7-4359-b55d-fbb040d86804"
      },
      "execution_count": 8,
      "outputs": [
        {
          "output_type": "execute_result",
          "data": {
            "text/plain": [
              "42"
            ]
          },
          "metadata": {},
          "execution_count": 8
        }
      ]
    },
    {
      "cell_type": "code",
      "source": [
        "MAX_LENGTH = 30\n",
        "device = torch.device(\"cuda:0\" if torch.cuda.is_available() else \"cpu\")\n",
        "device"
      ],
      "metadata": {
        "colab": {
          "base_uri": "https://localhost:8080/"
        },
        "id": "HmBkzRn_gYJp",
        "outputId": "174f4e8d-f333-4633-dd79-61bb3a131d16"
      },
      "execution_count": 9,
      "outputs": [
        {
          "output_type": "execute_result",
          "data": {
            "text/plain": [
              "device(type='cuda', index=0)"
            ]
          },
          "metadata": {},
          "execution_count": 9
        }
      ]
    },
    {
      "cell_type": "code",
      "source": [
        "train= pd.read_csv('/content/drive/MyDrive/Disaster-Tweets-Prediction-main/train.csv')\n",
        "test= pd.read_csv(\"/content/drive/MyDrive/Disaster-Tweets-Prediction-main/test.csv\")"
      ],
      "metadata": {
        "id": "tH5KjZsOimdA"
      },
      "execution_count": 10,
      "outputs": []
    },
    {
      "cell_type": "code",
      "source": [
        "train.target.value_counts()"
      ],
      "metadata": {
        "colab": {
          "base_uri": "https://localhost:8080/"
        },
        "id": "FhKRC69kk8KX",
        "outputId": "c473c22a-8045-4b4c-ebfc-30f590f9ac50"
      },
      "execution_count": null,
      "outputs": [
        {
          "output_type": "execute_result",
          "data": {
            "text/plain": [
              "0    4342\n",
              "1    3271\n",
              "Name: target, dtype: int64"
            ]
          },
          "metadata": {},
          "execution_count": 7
        }
      ]
    },
    {
      "cell_type": "markdown",
      "source": [
        "# Preprocessing without optimization"
      ],
      "metadata": {
        "id": "C6OP8nzsmNsM"
      }
    },
    {
      "cell_type": "code",
      "source": [
        "def remove_emoji(string):\n",
        "    emoji_pattern = re.compile(\"[\"\n",
        "                           u\"\\U0001F600-\\U0001F64F\"  # emoticons\n",
        "                           u\"\\U0001F300-\\U0001F5FF\"  # symbols & pictographs\n",
        "                           u\"\\U0001F680-\\U0001F6FF\"  # transport & map symbols\n",
        "                           u\"\\U0001F1E0-\\U0001F1FF\"  # flags (iOS)\n",
        "                           u\"\\U00002702-\\U000027B0\"\n",
        "                           u\"\\U000024C2-\\U0001F251\"\n",
        "                           \"]+\", flags=re.UNICODE)\n",
        "    return emoji_pattern.sub(r' ', string)\n",
        "\n",
        "def clean_sentence(sentence):\n",
        "    # remove URLS \n",
        "    sentence = re.sub(r'http\\S+', ' ', sentence)\n",
        "    # remove emoji's\n",
        "    sentence = remove_emoji(sentence)\n",
        "    # remove punctuation\n",
        "    sentence = re.sub(\"[^0-9A-Za-z ]\", \"\" , sentence)\n",
        "    # remove double spaces\n",
        "    sentence = sentence.replace('  ',\"\")\n",
        "    \n",
        "    return sentence.strip()\n",
        "\n",
        "def remove_stopwords(tokens, stopwords):\n",
        "    clean_token = [word for word in tokens if word not in stopwords]\n",
        "    return clean_token\n",
        "\n",
        "# lemmalization \n",
        "def lemmatize(tokens, lemma):\n",
        "    lemmatized_tokens = [lemma.lemmatize(token, pos = 'v') for token in tokens]\n",
        "    return lemmatized_tokens\n",
        "\n"
      ],
      "metadata": {
        "id": "oAsCo9JAlAtz"
      },
      "execution_count": 11,
      "outputs": []
    },
    {
      "cell_type": "code",
      "source": [
        "# fix sentence length\n",
        "def trunc_padding(sentence):\n",
        "    modify_sentence = sentence.copy()\n",
        "    if len(modify_sentence) >= MAX_LENGTH:\n",
        "        modify_sentence = modify_sentence[:MAX_LENGTH]\n",
        "    else:\n",
        "        modify_sentence.extend(list([\"0\"] * (MAX_LENGTH - len(modify_sentence))))\n",
        "    return modify_sentence"
      ],
      "metadata": {
        "id": "SBZmRoIelHRi"
      },
      "execution_count": 12,
      "outputs": []
    },
    {
      "cell_type": "code",
      "source": [
        "stopwords = nltk.corpus.stopwords.words('english')\n",
        "lemma = WordNetLemmatizer()\n",
        "\n",
        "def processing(df, stopwords, lemma):\n",
        "    df['text'] = df['text'].apply(lambda sentence: sentence.lower())\n",
        "    df['text'] = df['text'].apply(lambda sentence: clean_sentence(sentence))\n",
        "    # tokenization\n",
        "    df['text'] = df['text'].apply(lambda sentence: sentence.split())\n",
        "    # remove stopwords\n",
        "    df['text'] = df['text'].apply(lambda sentence: remove_stopwords(sentence, stopwords))\n",
        "    # lemmalization \n",
        "    df['text'] = df['text'].apply(lambda sentence: lemmatize(sentence, lemma))\n",
        "    # sentence length before padding\n",
        "    df['length'] = df['text'].apply(lambda x: len(x))\n",
        "    # fix sentence length\n",
        "    df['text'] = df['text'].apply(lambda sentence: trunc_padding(sentence))\n",
        "    # sentence length after padding\n",
        "    df['length_padding'] = df['text'].apply(lambda x: len(x))"
      ],
      "metadata": {
        "id": "oGaap-xtlI8b"
      },
      "execution_count": 13,
      "outputs": []
    },
    {
      "cell_type": "code",
      "source": [
        "%lprun -f processing processing(train, stopwords, lemma)"
      ],
      "metadata": {
        "id": "ehPU3YtglLQp"
      },
      "execution_count": 10,
      "outputs": []
    },
    {
      "cell_type": "markdown",
      "source": [
        "<pre>\n",
        "Timer unit: 1e-06 s\n",
        "\n",
        "Total time: 10.0521 s\n",
        "File: <ipython-input-9-0655b95bc61f>\n",
        "Function: processing at line 4\n",
        "\n",
        "Line #      Hits         Time  Per Hit   % Time  Line Contents\n",
        "==============================================================\n",
        "     4                                           def processing(df, stopwords, lemma):\n",
        "     5         1      29022.0  29022.0      0.3      df['text'] = df['text'].apply(lambda sentence: sentence.lower())\n",
        "     6         1     435270.0 435270.0      4.3      df['text'] = df['text'].apply(lambda sentence: clean_sentence(sentence))\n",
        "     7                                               # tokenization\n",
        "     8         1      23946.0  23946.0      0.2      df['text'] = df['text'].apply(lambda sentence: sentence.split())\n",
        "     9                                               # remove stopwords\n",
        "    10         1     379671.0 379671.0      3.8      df['text'] = df['text'].apply(lambda sentence: remove_stopwords(sentence, stopwords))\n",
        "    11                                               # lemmalization \n",
        "    12         1    9130331.0 9130331.0     90.8      df['text'] = df['text'].apply(lambda sentence: lemmatize(sentence, lemma))\n",
        "    13                                               # sentence length before padding\n",
        "    14         1       9110.0   9110.0      0.1      df['length'] = df['text'].apply(lambda x: len(x))\n",
        "    15                                               # fix sentence length\n",
        "    16         1      35964.0  35964.0      0.4      df['text'] = df['text'].apply(lambda sentence: trunc_padding(sentence))\n",
        "    17                                               # sentence length after padding\n",
        "    18         1       8771.0   8771.0      0.1      df['length_padding'] = df['text'].apply(lambda x: len(x))"
      ],
      "metadata": {
        "id": "vLPIU-UQmU_x"
      }
    },
    {
      "cell_type": "code",
      "source": [
        "%lprun -f processing processing(test, stopwords, lemma)"
      ],
      "metadata": {
        "id": "bG6W7c3elN6l"
      },
      "execution_count": 14,
      "outputs": []
    },
    {
      "cell_type": "markdown",
      "source": [
        "<pre>\n",
        "Timer unit: 1e-06 s\n",
        "\n",
        "Total time: 0.709026 s\n",
        "File: <ipython-input-13-0655b95bc61f>\n",
        "Function: processing at line 4\n",
        "\n",
        "Line #      Hits         Time  Per Hit   % Time  Line Contents\n",
        "==============================================================\n",
        "     4                                           def processing(df, stopwords, lemma):\n",
        "     5         1       3960.0   3960.0      0.6      df['text'] = df['text'].apply(lambda sentence: sentence.lower())\n",
        "     6         1      58284.0  58284.0      8.2      df['text'] = df['text'].apply(lambda sentence: clean_sentence(sentence))\n",
        "     7                                               # tokenization\n",
        "     8         1       8346.0   8346.0      1.2      df['text'] = df['text'].apply(lambda sentence: sentence.split())\n",
        "     9                                               # remove stopwords\n",
        "    10         1      80398.0  80398.0     11.3      df['text'] = df['text'].apply(lambda sentence: remove_stopwords(sentence, stopwords))\n",
        "    11                                               # lemmalization \n",
        "    12         1     544493.0 544493.0     76.8      df['text'] = df['text'].apply(lambda sentence: lemmatize(sentence, lemma))\n",
        "    13                                               # sentence length before padding\n",
        "    14         1       2856.0   2856.0      0.4      df['length'] = df['text'].apply(lambda x: len(x))\n",
        "    15                                               # fix sentence length\n",
        "    16         1       7977.0   7977.0      1.1      df['text'] = df['text'].apply(lambda sentence: trunc_padding(sentence))\n",
        "    17                                               # sentence length after padding\n",
        "    18         1       2712.0   2712.0      0.4      df['length_padding'] = df['text'].apply(lambda x: len(x))"
      ],
      "metadata": {
        "id": "OPb3pxBSmhx0"
      }
    },
    {
      "cell_type": "markdown",
      "source": [
        "# Preprocessing with Cython optimization"
      ],
      "metadata": {
        "id": "WiA9W9O0mjyB"
      }
    },
    {
      "cell_type": "code",
      "source": [
        "%%cython \n",
        "# cython: linetrace=True\n",
        "# cython: binding=True\n",
        "# distutils: define_macros=CYTHON_TRACE_NOGIL=1\n",
        "# cython: profile=True\n",
        "from tqdm import tqdm\n",
        "import numpy as np\n",
        "import random\n",
        "import pandas as pd\n",
        "import nltk\n",
        "from nltk.stem import WordNetLemmatizer\n",
        "import re\n",
        "import matplotlib.pyplot as plt\n",
        "import seaborn as sns\n",
        "from sklearn.utils import shuffle\n",
        "import torch\n",
        "import torch.nn as nn\n",
        "import torch.optim as optim\n",
        "from torch.autograd import Variable\n",
        "import torch.nn.functional as F\n",
        "import string\n",
        "from torch.utils.data import Dataset, DataLoader\n",
        "import torchtext\n",
        "from torchtext.data.utils import get_tokenizer\n",
        "from torchtext.vocab import build_vocab_from_iterator\n",
        "import itertools\n",
        "nltk.download('stopwords')\n",
        "nltk.download(\"wordnet\")\n",
        "cdef seed_everything(int seed):\n",
        "    random.seed(seed)\n",
        "    np.random.seed(seed)\n",
        "    torch.manual_seed(seed)\n",
        "    torch.cuda.manual_seed_all(seed)\n",
        "    return seed\n",
        "\n",
        "seed_everything(42)\n",
        "cdef int MAX_LENGTH = 30\n",
        "cdef object device = torch.device(\"cuda:0\" if torch.cuda.is_available() else \"cpu\")\n",
        "\n",
        "cdef clean_sentence(object sentence):\n",
        "    # remove URLS \n",
        "    sentence = re.sub(r'http\\S+', ' ', sentence)\n",
        "    # remove emoji's\n",
        "    cdef object emoji_pattern = re.compile(\"[\"\n",
        "                           u\"\\U0001F600-\\U0001F64F\"  # emoticons\n",
        "                           u\"\\U0001F300-\\U0001F5FF\"  # symbols & pictographs\n",
        "                           u\"\\U0001F680-\\U0001F6FF\"  # transport & map symbols\n",
        "                           u\"\\U0001F1E0-\\U0001F1FF\"  # flags (iOS)\n",
        "                           u\"\\U00002702-\\U000027B0\"\n",
        "                           u\"\\U000024C2-\\U0001F251\"\n",
        "                           \"]+\", flags=re.UNICODE)\n",
        "    sentence = emoji_pattern.sub(r' ', sentence)\n",
        "\n",
        "    # remove punctuation\n",
        "    sentence = re.sub(\"[^0-9A-Za-z ]\", \"\" , sentence)\n",
        "    # remove double spaces\n",
        "    sentence = sentence.replace('  ',\"\")\n",
        "    \n",
        "    return sentence.strip()\n",
        "\n",
        "cdef remove_stopwords(list tokens, object stopwords):\n",
        "    cdef list clean_token = [word for word in tokens if word not in stopwords]\n",
        "    return clean_token\n",
        "\n",
        "# lemmalization \n",
        "cdef lemmatize(list tokens, object lemma):\n",
        "    cdef list lemmatized_tokens = [lemma.lemmatize(token, pos = 'v') for token in tokens]\n",
        "    return lemmatized_tokens\n",
        "\n",
        "cdef trunc_padding(list sentence):\n",
        "    sentence = list(itertools.islice(itertools.chain(sentence, itertools.repeat('0')), 0, MAX_LENGTH)) # fix sentence length\n",
        "    return sentence\n",
        "\n",
        "cdef object stopwords = nltk.corpus.stopwords.words('english')\n",
        "cdef object lemma = WordNetLemmatizer()\n",
        "\n",
        "def processing(df: pd.DataFrame, object stopwords, object lemma):\n",
        "    df['text'] = df['text'].map(lambda sentence: sentence.lower())\n",
        "    df['text'] = df['text'].map(lambda sentence: clean_sentence(sentence))\n",
        "    # tokenization 123123\n",
        "    df['text'] = df['text'].map(lambda sentence: sentence.split())\n",
        "    # remove stopwords\n",
        "    df['text'] = df['text'].map(lambda sentence: remove_stopwords(sentence, stopwords))\n",
        "    # lemmalization \n",
        "    df['text'] = df['text'].map(lambda sentence: lemmatize(sentence, lemma))\n",
        "    # sentence length before padding\n",
        "    df['length'] = df['text'].map(lambda x: len(x))\n",
        "    # fix sentence length\n",
        "    df['text'] = df['text'].map(lambda sentence: trunc_padding(sentence))\n",
        "    # sentence length after padding\n",
        "    df['length_padding'] = df['text'].map(lambda x: len(x))\n"
      ],
      "metadata": {
        "id": "LNvP5cFlmo1H"
      },
      "execution_count": 18,
      "outputs": []
    },
    {
      "cell_type": "code",
      "source": [
        "import pandas as pd\n",
        "from nltk.corpus import stopwords\n",
        "from nltk.stem import WordNetLemmatizer\n",
        "nltk.download('stopwords')\n",
        "nltk.download(\"wordnet\")\n",
        "train= pd.read_csv('/content/drive/MyDrive/Disaster-Tweets-Prediction-main/train.csv')\n",
        "test= pd.read_csv(\"/content/drive/MyDrive/Disaster-Tweets-Prediction-main/test.csv\")\n",
        "stopwords = set(stopwords.words('english'))\n",
        "lemma = WordNetLemmatizer()\n",
        "%lprun -f processing processing(train, stopwords, lemma)\n"
      ],
      "metadata": {
        "id": "2nSbrGYwnIlD",
        "colab": {
          "base_uri": "https://localhost:8080/"
        },
        "outputId": "8bc03fb8-7e22-4ba8-cfba-4119b72b7884"
      },
      "execution_count": 19,
      "outputs": [
        {
          "output_type": "stream",
          "name": "stderr",
          "text": [
            "[nltk_data] Downloading package stopwords to /root/nltk_data...\n",
            "[nltk_data]   Package stopwords is already up-to-date!\n",
            "[nltk_data] Downloading package wordnet to /root/nltk_data...\n",
            "[nltk_data]   Package wordnet is already up-to-date!\n"
          ]
        }
      ]
    },
    {
      "cell_type": "markdown",
      "source": [
        "<pre>\n",
        "Timer unit: 1e-06 s\n",
        "\n",
        "Total time: 8.682 s\n",
        "File: /root/.cache/ipython/cython/_cython_magic_8cec306dd1bca0d781798f8b4263af96.pyx\n",
        "Function: processing at line 76\n",
        "\n",
        "Line #      Hits         Time  Per Hit   % Time  Line Contents\n",
        "==============================================================\n",
        "    76                                           def processing(df: pd.DataFrame, object stopwords, object lemma):\n",
        "    77         1       4893.0   4893.0      0.1      df['text'] = df['text'].map(lambda sentence: sentence.lower())\n",
        "    78         1     123447.0 123447.0      1.4      df['text'] = df['text'].map(lambda sentence: clean_sentence(sentence))\n",
        "    79                                               # tokenization 123123\n",
        "    80         1      12871.0  12871.0      0.1      df['text'] = df['text'].map(lambda sentence: sentence.split())\n",
        "    81                                               # remove stopwords\n",
        "    82         1     181401.0 181401.0      2.1      df['text'] = df['text'].map(lambda sentence: remove_stopwords(sentence, stopwords))\n",
        "    83                                               # lemmalization \n",
        "    84         1    8324249.0 8324249.0     95.9      df['text'] = df['text'].map(lambda sentence: lemmatize(sentence, lemma))\n",
        "    85                                               # sentence length before padding\n",
        "    86         1       6568.0   6568.0      0.1      df['length'] = df['text'].map(lambda x: len(x))\n",
        "    87                                               # fix sentence length\n",
        "    88         1      23586.0  23586.0      0.3      df['text'] = df['text'].map(lambda sentence: trunc_padding(sentence))\n",
        "    89                                               # sentence length after padding\n",
        "    90         1       4985.0   4985.0      0.1      df['length_padding'] = df['text'].map(lambda x: len(x))"
      ],
      "metadata": {
        "id": "Qs-IoIJuwJ3v"
      }
    },
    {
      "cell_type": "code",
      "source": [
        "%reload_ext line_profiler\n",
        "%lprun -f processing processing(test, stopwords, lemma)"
      ],
      "metadata": {
        "id": "iOnVIG-Kqywg"
      },
      "execution_count": 20,
      "outputs": []
    },
    {
      "cell_type": "markdown",
      "source": [
        "\n",
        "<pre>Timer unit: 1e-06 s\n",
        "\n",
        "Total time: 0.591486 s\n",
        "File: /root/.cache/ipython/cython/_cython_magic_8cec306dd1bca0d781798f8b4263af96.pyx\n",
        "Function: processing at line 76\n",
        "\n",
        "Line #      Hits         Time  Per Hit   % Time  Line Contents\n",
        "==============================================================\n",
        "    76                                           def processing(df: pd.DataFrame, object stopwords, object lemma):\n",
        "    77         1       4764.0   4764.0      0.8      df['text'] = df['text'].map(lambda sentence: sentence.lower())\n",
        "    78         1      47267.0  47267.0      8.0      df['text'] = df['text'].map(lambda sentence: clean_sentence(sentence))\n",
        "    79                                               # tokenization 123123\n",
        "    80         1       6492.0   6492.0      1.1      df['text'] = df['text'].map(lambda sentence: sentence.split())\n",
        "    81                                               # remove stopwords\n",
        "    82         1       7151.0   7151.0      1.2      df['text'] = df['text'].map(lambda sentence: remove_stopwords(sentence, stopwords))\n",
        "    83                                               # lemmalization \n",
        "    84         1     514114.0 514114.0     86.9      df['text'] = df['text'].map(lambda sentence: lemmatize(sentence, lemma))\n",
        "    85                                               # sentence length before padding\n",
        "    86         1       2315.0   2315.0      0.4      df['length'] = df['text'].map(lambda x: len(x))\n",
        "    87                                               # fix sentence length\n",
        "    88         1       7330.0   7330.0      1.2      df['text'] = df['text'].map(lambda sentence: trunc_padding(sentence))\n",
        "    89                                               # sentence length after padding\n",
        "    90         1       2053.0   2053.0      0.3      df['length_padding'] = df['text'].map(lambda x: len(x))"
      ],
      "metadata": {
        "id": "rNuWPuSQwM20"
      }
    },
    {
      "cell_type": "markdown",
      "source": [
        "# Comparison\n",
        "processing training data without optimization takes:  10.0521 s <br>\n",
        "processing training data with Cython optimization takes:  8.682 s <br>\n",
        "The speed up is : 10.0521 / 8.682 ≈ 1.16 <br>\n",
        "The relative speed up is 16 %\n",
        "<br><br>\n",
        "processing testing data without optimization takes:  0.709026 s<br>\n",
        "processing testing data with Cython optimization takes:  0.591486 s <br>\n",
        "The speed up is : 0.709026 / 0.591486 ≈ 1.19<br>\n",
        "The relative speed up is 19 %\n",
        "\n"
      ],
      "metadata": {
        "id": "ZlB2L-DLwVe0"
      }
    }
  ]
}