{
  "cells": [
    {
      "cell_type": "code",
      "execution_count": null,
      "metadata": {
        "colab": {
          "base_uri": "https://localhost:8080/"
        },
        "execution": {
          "iopub.execute_input": "2023-04-27T07:45:37.528664Z",
          "iopub.status.busy": "2023-04-27T07:45:37.527773Z",
          "iopub.status.idle": "2023-04-27T07:45:39.443324Z",
          "shell.execute_reply": "2023-04-27T07:45:39.441939Z",
          "shell.execute_reply.started": "2023-04-27T07:45:37.528620Z"
        },
        "id": "t0PUWjCnIZdw",
        "outputId": "1ec77825-7e68-44f0-ecf7-5c733d9293d5",
        "trusted": true
      },
      "outputs": [],
      "source": [
        "# import package\n",
        "from tqdm import tqdm\n",
        "import numpy as np\n",
        "import random\n",
        "import pandas as pd\n",
        "import nltk\n",
        "from nltk.stem import WordNetLemmatizer\n",
        "import re\n",
        "import matplotlib.pyplot as plt\n",
        "import seaborn as sns\n",
        "from sklearn.utils import shuffle\n",
        "import torch\n",
        "import torch.nn as nn\n",
        "import torch.optim as optim\n",
        "from torch.autograd import Variable\n",
        "import torch.nn.functional as F\n",
        "import string\n",
        "from torch.utils.data import Dataset, DataLoader\n",
        "import torchtext\n",
        "from torchtext.data.utils import get_tokenizer\n",
        "from torchtext.vocab import build_vocab_from_iterator\n",
        "nltk.download('stopwords')\n",
        "nltk.download(\"wordnet\")\n",
        "from sklearn.model_selection import train_test_split\n",
        "import warnings\n",
        "warnings.filterwarnings(\"ignore\")"
      ]
    },
    {
      "cell_type": "code",
      "execution_count": null,
      "metadata": {
        "execution": {
          "iopub.execute_input": "2023-04-27T07:45:41.624036Z",
          "iopub.status.busy": "2023-04-27T07:45:41.623435Z",
          "iopub.status.idle": "2023-04-27T07:46:01.404263Z",
          "shell.execute_reply": "2023-04-27T07:46:01.402780Z",
          "shell.execute_reply.started": "2023-04-27T07:45:41.623998Z"
        },
        "id": "_900xw8_IZd1",
        "trusted": true
      },
      "outputs": [],
      "source": [
        "# ! unzip /usr/share/nltk_data/corpora/wordnet.zip -d /usr/share/nltk_data/corpora/"
      ]
    },
    {
      "cell_type": "code",
      "execution_count": null,
      "metadata": {
        "colab": {
          "base_uri": "https://localhost:8080/"
        },
        "id": "ch4LZD8QIhxL",
        "outputId": "64c9b8a8-3c9f-4aea-88e5-b830819570d6"
      },
      "outputs": [],
      "source": [
        "!pip install transformers"
      ]
    },
    {
      "cell_type": "code",
      "execution_count": null,
      "metadata": {
        "colab": {
          "base_uri": "https://localhost:8080/"
        },
        "execution": {
          "iopub.execute_input": "2023-04-27T07:46:03.669242Z",
          "iopub.status.busy": "2023-04-27T07:46:03.667963Z",
          "iopub.status.idle": "2023-04-27T07:46:03.707151Z",
          "shell.execute_reply": "2023-04-27T07:46:03.705947Z",
          "shell.execute_reply.started": "2023-04-27T07:46:03.669193Z"
        },
        "id": "J-mbL9QMIZd2",
        "outputId": "31d60399-8c97-4aaf-adf6-a61c8e06f13d",
        "trusted": true
      },
      "outputs": [],
      "source": [
        "# setting seed\n",
        "def seed_everything(seed):\n",
        "    random.seed(seed)\n",
        "    np.random.seed(seed)\n",
        "    torch.manual_seed(seed)\n",
        "    torch.cuda.manual_seed_all(seed)\n",
        "    return seed\n",
        "\n",
        "seed_everything(42)\n",
        "MAX_LENGTH = 30\n",
        "device = torch.device(\"cuda:0\" if torch.cuda.is_available() else \"cpu\")\n",
        "device"
      ]
    },
    {
      "cell_type": "code",
      "execution_count": null,
      "metadata": {
        "execution": {
          "iopub.execute_input": "2023-04-27T07:46:06.356043Z",
          "iopub.status.busy": "2023-04-27T07:46:06.355608Z",
          "iopub.status.idle": "2023-04-27T07:46:06.402586Z",
          "shell.execute_reply": "2023-04-27T07:46:06.401381Z",
          "shell.execute_reply.started": "2023-04-27T07:46:06.356006Z"
        },
        "id": "bpKODmtNIZd3",
        "trusted": true
      },
      "outputs": [],
      "source": [
        "# import dataset\n",
        "train= pd.read_csv('./train.csv')\n",
        "test= pd.read_csv(\"./test.csv\")\n",
        "train, val = train_test_split(train, test_size=0.2, random_state=42)"
      ]
    },
    {
      "cell_type": "code",
      "execution_count": null,
      "metadata": {
        "execution": {
          "iopub.execute_input": "2023-04-27T07:46:06.741075Z",
          "iopub.status.busy": "2023-04-27T07:46:06.739980Z",
          "iopub.status.idle": "2023-04-27T07:46:06.751808Z",
          "shell.execute_reply": "2023-04-27T07:46:06.749444Z",
          "shell.execute_reply.started": "2023-04-27T07:46:06.741026Z"
        },
        "id": "kZqNamMAIZd3",
        "trusted": true
      },
      "outputs": [],
      "source": [
        "def remove_emoji(string):\n",
        "    emoji_pattern = re.compile(\"[\"\n",
        "                           u\"\\U0001F600-\\U0001F64F\"  # emoticons\n",
        "                           u\"\\U0001F300-\\U0001F5FF\"  # symbols & pictographs\n",
        "                           u\"\\U0001F680-\\U0001F6FF\"  # transport & map symbols\n",
        "                           u\"\\U0001F1E0-\\U0001F1FF\"  # flags (iOS)\n",
        "                           u\"\\U00002702-\\U000027B0\"\n",
        "                           u\"\\U000024C2-\\U0001F251\"\n",
        "                           \"]+\", flags=re.UNICODE)\n",
        "    return emoji_pattern.sub(r' ', string)\n",
        "\n",
        "def clean_sentence(sentence):\n",
        "    # remove URLS \n",
        "    sentence = re.sub(r'http\\S+', ' ', sentence)\n",
        "    # remove emoji's\n",
        "    sentence = remove_emoji(sentence)\n",
        "    # remove punctuation\n",
        "    sentence = re.sub(\"[^0-9A-Za-z ]\", \"\" , sentence)\n",
        "    # remove double spaces\n",
        "    sentence = sentence.replace('  ',\"\")\n",
        "    \n",
        "    return sentence.strip()\n",
        "\n",
        "def remove_stopwords(tokens, stopwords):\n",
        "    clean_token = [word for word in tokens if word not in stopwords]\n",
        "    return clean_token\n",
        "\n",
        "# lemmalization \n",
        "def lemmatize(tokens, lemma):\n",
        "    lemmatized_tokens = [lemma.lemmatize(token, pos = 'v') for token in tokens]\n",
        "    return lemmatized_tokens"
      ]
    },
    {
      "cell_type": "code",
      "execution_count": null,
      "metadata": {
        "execution": {
          "iopub.execute_input": "2023-04-27T07:46:06.986553Z",
          "iopub.status.busy": "2023-04-27T07:46:06.985790Z",
          "iopub.status.idle": "2023-04-27T07:46:06.993621Z",
          "shell.execute_reply": "2023-04-27T07:46:06.992211Z",
          "shell.execute_reply.started": "2023-04-27T07:46:06.986503Z"
        },
        "id": "zPRRL4oXIZd4",
        "trusted": true
      },
      "outputs": [],
      "source": [
        "# fix sentence length\n",
        "def trunc_padding(sentence):\n",
        "    modify_sentence = sentence.copy()\n",
        "    if len(modify_sentence) >= MAX_LENGTH:\n",
        "        modify_sentence = modify_sentence[:MAX_LENGTH]\n",
        "    else:\n",
        "        modify_sentence.extend(list([\"0\"] * (MAX_LENGTH - len(modify_sentence))))\n",
        "    return modify_sentence"
      ]
    },
    {
      "cell_type": "code",
      "execution_count": null,
      "metadata": {
        "execution": {
          "iopub.execute_input": "2023-04-27T07:46:07.193695Z",
          "iopub.status.busy": "2023-04-27T07:46:07.192896Z",
          "iopub.status.idle": "2023-04-27T07:46:10.269619Z",
          "shell.execute_reply": "2023-04-27T07:46:10.268413Z",
          "shell.execute_reply.started": "2023-04-27T07:46:07.193654Z"
        },
        "id": "OQf262GCIZd4",
        "trusted": true
      },
      "outputs": [],
      "source": [
        "stopwords = nltk.corpus.stopwords.words('english')\n",
        "lemma = WordNetLemmatizer()\n",
        "\n",
        "def processing(df, stopwords, lemma):\n",
        "    df['text'] = df['text'].apply(lambda sentence: sentence.lower())\n",
        "    df['text'] = df['text'].apply(lambda sentence: clean_sentence(sentence))\n",
        "    # tokenization\n",
        "    df['text'] = df['text'].apply(lambda sentence: sentence.split())\n",
        "    # remove stopwords\n",
        "    df['text'] = df['text'].apply(lambda sentence: remove_stopwords(sentence, stopwords))\n",
        "    # lemmalization \n",
        "    df['text'] = df['text'].apply(lambda sentence: lemmatize(sentence, lemma))\n",
        "    # sentence length before padding\n",
        "    df['length'] = df['text'].apply(lambda x: len(x))\n",
        "    # fix sentence length\n",
        "    df['text'] = df['text'].apply(lambda sentence: trunc_padding(sentence))\n",
        "    # sentence length after padding\n",
        "    df['length_padding'] = df['text'].apply(lambda x: len(x))\n",
        "    \n",
        "processing(train, stopwords, lemma)\n",
        "processing(val, stopwords, lemma)\n",
        "processing(test, stopwords, lemma)"
      ]
    },
    {
      "cell_type": "code",
      "execution_count": null,
      "metadata": {
        "colab": {
          "base_uri": "https://localhost:8080/",
          "height": 204
        },
        "execution": {
          "iopub.execute_input": "2023-04-27T07:46:10.273037Z",
          "iopub.status.busy": "2023-04-27T07:46:10.272330Z",
          "iopub.status.idle": "2023-04-27T07:46:10.294293Z",
          "shell.execute_reply": "2023-04-27T07:46:10.293008Z",
          "shell.execute_reply.started": "2023-04-27T07:46:10.272992Z"
        },
        "id": "R7a1LNNLIZd5",
        "outputId": "70b74a09-4ebc-402c-f25c-1a6a8dead176",
        "trusted": true
      },
      "outputs": [],
      "source": [
        "train.head()"
      ]
    },
    {
      "cell_type": "code",
      "execution_count": null,
      "metadata": {
        "colab": {
          "base_uri": "https://localhost:8080/",
          "height": 204
        },
        "execution": {
          "iopub.execute_input": "2023-04-27T07:46:10.298063Z",
          "iopub.status.busy": "2023-04-27T07:46:10.297197Z",
          "iopub.status.idle": "2023-04-27T07:46:10.315916Z",
          "shell.execute_reply": "2023-04-27T07:46:10.314557Z",
          "shell.execute_reply.started": "2023-04-27T07:46:10.298015Z"
        },
        "id": "gRICuBZLIZd5",
        "outputId": "990113dc-22f9-49ce-8f12-51b31c5d856b",
        "trusted": true
      },
      "outputs": [],
      "source": [
        "test.head()"
      ]
    },
    {
      "cell_type": "markdown",
      "metadata": {
        "id": "Ic0UHgppIZd6"
      },
      "source": [
        "## Assign unique index to each word, used for word embedding"
      ]
    },
    {
      "cell_type": "code",
      "execution_count": null,
      "metadata": {
        "execution": {
          "iopub.execute_input": "2023-04-27T07:46:12.668161Z",
          "iopub.status.busy": "2023-04-27T07:46:12.667572Z",
          "iopub.status.idle": "2023-04-27T07:46:12.900087Z",
          "shell.execute_reply": "2023-04-27T07:46:12.898739Z",
          "shell.execute_reply.started": "2023-04-27T07:46:12.668107Z"
        },
        "id": "ib6rfucrIZd7",
        "trusted": true
      },
      "outputs": [],
      "source": [
        "# get all vocabulary\n",
        "vocab_list = []\n",
        "for sentence in train['text']:\n",
        "    vocab_list.append(sentence)\n",
        "vocab = build_vocab_from_iterator(vocab_list, specials=[\"<unk>\"])\n",
        "vocab.set_default_index(vocab[\"<unk>\"])"
      ]
    },
    {
      "cell_type": "markdown",
      "metadata": {
        "id": "qJxHoLZHIZd7"
      },
      "source": [
        "### Dataset and DataLoader"
      ]
    },
    {
      "cell_type": "code",
      "execution_count": null,
      "metadata": {
        "execution": {
          "iopub.execute_input": "2023-04-27T07:46:14.103933Z",
          "iopub.status.busy": "2023-04-27T07:46:14.102930Z",
          "iopub.status.idle": "2023-04-27T07:46:14.112541Z",
          "shell.execute_reply": "2023-04-27T07:46:14.111081Z",
          "shell.execute_reply.started": "2023-04-27T07:46:14.103855Z"
        },
        "id": "6SNL5dLbIZd8",
        "trusted": true
      },
      "outputs": [],
      "source": [
        "class TweetDataset(Dataset):\n",
        "    def __init__(self, x, y):\n",
        "        self.x = x\n",
        "        self.y = y \n",
        "    \n",
        "    def __len__(self):\n",
        "        return len(self.y)\n",
        "    \n",
        "    def __getitem__(self, idx):\n",
        "        sentence = self.x[idx]\n",
        "        x = torch.tensor(vocab(sentence), dtype=torch.long).to(device)\n",
        "        y = torch.tensor(self.y[idx], dtype=torch.long).to(device)\n",
        "        return x, y"
      ]
    },
    {
      "cell_type": "code",
      "execution_count": null,
      "metadata": {
        "execution": {
          "iopub.execute_input": "2023-04-27T07:46:16.713521Z",
          "iopub.status.busy": "2023-04-27T07:46:16.712731Z",
          "iopub.status.idle": "2023-04-27T07:46:16.719486Z",
          "shell.execute_reply": "2023-04-27T07:46:16.718066Z",
          "shell.execute_reply.started": "2023-04-27T07:46:16.713476Z"
        },
        "id": "nLbTIIKaIZd8",
        "trusted": true
      },
      "outputs": [],
      "source": [
        "model_config = {\n",
        "    'vocab_size': len(vocab),\n",
        "    'hidden_dim' : 256,\n",
        "    'embedding_dim' : 200,\n",
        "    'num_classes' : 2,\n",
        "    'n_layers': 2,\n",
        "    'dropout': 0.2\n",
        "}"
      ]
    },
    {
      "cell_type": "code",
      "execution_count": null,
      "metadata": {
        "execution": {
          "iopub.execute_input": "2023-04-27T07:46:17.304575Z",
          "iopub.status.busy": "2023-04-27T07:46:17.303752Z",
          "iopub.status.idle": "2023-04-27T07:46:17.311319Z",
          "shell.execute_reply": "2023-04-27T07:46:17.309819Z",
          "shell.execute_reply.started": "2023-04-27T07:46:17.304519Z"
        },
        "id": "y_F4dTLGIZd8",
        "trusted": true
      },
      "outputs": [],
      "source": [
        "train_data = TweetDataset(train['text'], train['target'])\n",
        "train_dataloader = DataLoader(train_data, batch_size=64, shuffle=True)\n",
        "\n",
        "val_data = TweetDataset(val['text'], val['target'])\n",
        "val_dataloader = DataLoader(val_data, batch_size=64, shuffle=False)\n"
      ]
    },
    {
      "cell_type": "code",
      "execution_count": null,
      "metadata": {
        "colab": {
          "base_uri": "https://localhost:8080/",
          "height": 494
        },
        "execution": {
          "iopub.execute_input": "2023-04-27T07:46:19.165481Z",
          "iopub.status.busy": "2023-04-27T07:46:19.164219Z",
          "iopub.status.idle": "2023-04-27T07:46:20.753579Z",
          "shell.execute_reply": "2023-04-27T07:46:20.752308Z",
          "shell.execute_reply.started": "2023-04-27T07:46:19.165431Z"
        },
        "id": "5_BgNhifIZd9",
        "outputId": "6ea90124-33c0-449b-abf1-c3c0f7627cce",
        "trusted": true
      },
      "outputs": [],
      "source": [
        "for batch in train_dataloader:\n",
        "    print(batch)\n",
        "    break"
      ]
    },
    {
      "cell_type": "markdown",
      "metadata": {
        "id": "fP0JqkyxIZd9"
      },
      "source": [
        "# Model"
      ]
    },
    {
      "cell_type": "markdown",
      "metadata": {
        "id": "ZIFw3YAGIZd9"
      },
      "source": [
        "# LSTM"
      ]
    },
    {
      "cell_type": "code",
      "execution_count": null,
      "metadata": {
        "execution": {
          "iopub.execute_input": "2023-04-27T07:46:24.973111Z",
          "iopub.status.busy": "2023-04-27T07:46:24.972558Z",
          "iopub.status.idle": "2023-04-27T07:46:24.985549Z",
          "shell.execute_reply": "2023-04-27T07:46:24.984178Z",
          "shell.execute_reply.started": "2023-04-27T07:46:24.973070Z"
        },
        "id": "wgiT4q_XIZd-",
        "trusted": true
      },
      "outputs": [],
      "source": [
        "class LSTM(nn.Module):\n",
        "    def __init__(self, config):\n",
        "        super(LSTM, self).__init__()\n",
        "        self.config = config\n",
        "        self.embedding = nn.Embedding(config['vocab_size'], config['embedding_dim'])\n",
        "        self.lstm = nn.LSTM(config['embedding_dim'], config['hidden_dim'], bidirectional=True)\n",
        "        self.fc = nn.Linear(config['hidden_dim'] * 2, config['num_classes'])\n",
        "        self.sigmoid = nn.Sigmoid()\n",
        "    \n",
        "    def forward(self, X):\n",
        "        embeds = self.embedding(X).permute(1, 0, 2)\n",
        "        hidden_state = Variable(torch.zeros(2, len(X), self.config['hidden_dim'])).to(device)\n",
        "        cell_state = Variable(torch.zeros(2, len(X), self.config['hidden_dim'])).to(device)\n",
        "        output, (final_hidden_state, final_cell_state) = self.lstm(embeds, (hidden_state, cell_state))\n",
        "        output = output.permute(1, 0, 2)\n",
        "        output = self.fc(output[:, -1, :])\n",
        "        return self.sigmoid(output)\n"
      ]
    },
    {
      "cell_type": "code",
      "execution_count": null,
      "metadata": {
        "execution": {
          "iopub.execute_input": "2023-04-27T07:46:25.888839Z",
          "iopub.status.busy": "2023-04-27T07:46:25.888446Z",
          "iopub.status.idle": "2023-04-27T07:46:25.895521Z",
          "shell.execute_reply": "2023-04-27T07:46:25.894222Z",
          "shell.execute_reply.started": "2023-04-27T07:46:25.888805Z"
        },
        "id": "9tCOUg1BIZd-",
        "trusted": true
      },
      "outputs": [],
      "source": [
        "def binary_accuracy(preds, y):\n",
        "    \"\"\"\n",
        "    Returns accuracy per batch, i.e. if you get 8/10 right, this returns 0.8, NOT 8\n",
        "    \"\"\"\n",
        "    prediction = preds.argmax(dim=1)\n",
        "    correct = (prediction == y).float() #convert into float for division \n",
        "    acc = correct.sum() / len(correct)\n",
        "    return acc"
      ]
    },
    {
      "cell_type": "markdown",
      "metadata": {
        "id": "kTDLFKBpIZd-"
      },
      "source": [
        "# Training"
      ]
    },
    {
      "cell_type": "code",
      "execution_count": null,
      "metadata": {
        "execution": {
          "iopub.execute_input": "2023-04-27T07:46:27.267710Z",
          "iopub.status.busy": "2023-04-27T07:46:27.266559Z",
          "iopub.status.idle": "2023-04-27T07:46:27.685197Z",
          "shell.execute_reply": "2023-04-27T07:46:27.683948Z",
          "shell.execute_reply.started": "2023-04-27T07:46:27.267666Z"
        },
        "id": "I9LK9bIgIZd_",
        "trusted": true
      },
      "outputs": [],
      "source": [
        "model = LSTM(model_config)\n",
        "model.to(device)\n",
        "criterion = nn.CrossEntropyLoss().to(device)\n",
        "optimizer = optim.Adam(model.parameters(), lr = 0.0001)"
      ]
    },
    {
      "cell_type": "code",
      "execution_count": null,
      "metadata": {
        "execution": {
          "iopub.execute_input": "2023-04-27T07:46:27.688287Z",
          "iopub.status.busy": "2023-04-27T07:46:27.687763Z",
          "iopub.status.idle": "2023-04-27T07:46:59.659583Z",
          "shell.execute_reply": "2023-04-27T07:46:59.657954Z",
          "shell.execute_reply.started": "2023-04-27T07:46:27.688241Z"
        },
        "id": "i2UMUO3BIZd_",
        "trusted": true
      },
      "outputs": [],
      "source": [
        "model = LSTM(model_config)\n",
        "model.to(device)\n",
        "criterion = nn.CrossEntropyLoss().to(device)\n",
        "optimizer = optim.Adam(model.parameters(), lr = 0.0001)\n",
        "\n",
        "train_loss = []\n",
        "train_acc = []\n",
        "valid_loss = []\n",
        "valid_acc = []\n",
        "\n",
        "for epoch in range(50):\n",
        "    # Training loop\n",
        "    model.train()\n",
        "    train_epoch_loss = 0\n",
        "    train_epoch_acc = 0\n",
        "    for batch in tqdm(train_dataloader):\n",
        "        optimizer.zero_grad()\n",
        "        inputs, target = batch\n",
        "        outputs = model(inputs)\n",
        "        loss = criterion(outputs, target)\n",
        "        loss.backward()\n",
        "        optimizer.step()\n",
        "        train_epoch_loss += loss.item()\n",
        "        train_epoch_acc += binary_accuracy(outputs, target).item()\n",
        "\n",
        "    train_loss.append(train_epoch_loss / len(train_dataloader))\n",
        "    train_acc.append(train_epoch_acc / len(train_dataloader))\n",
        "\n",
        "    # Validation loop\n",
        "    model.eval()\n",
        "    valid_epoch_loss = 0\n",
        "    valid_epoch_acc = 0\n",
        "    with torch.no_grad():\n",
        "        for batch in tqdm(valid_dataloader):\n",
        "            inputs, target = batch\n",
        "            outputs = model(inputs)\n",
        "            loss = criterion(outputs, target)\n",
        "            valid_epoch_loss += loss.item()\n",
        "            valid_epoch_acc += binary_accuracy(outputs, target).item()\n",
        "\n",
        "    valid_loss.append(valid_epoch_loss / len(valid_dataloader))\n",
        "    valid_acc.append(valid_epoch_acc / len(valid_dataloader))\n",
        "\n",
        "    # Print results\n",
        "    print(\"Epoch {}:\".format(epoch))\n",
        "    print(\"\\tTrain Loss: {:.4f} | Train Acc: {:.4f}\".format(train_loss[-1], train_acc[-1]))\n",
        "    print(\"\\tVal. Loss: {:.4f} | Val. Acc: {:.4f}\".format(valid_loss[-1], valid_acc[-1]))\n"
      ]
    },
    {
      "cell_type": "code",
      "execution_count": null,
      "metadata": {
        "id": "xTC9dXOnIZeA",
        "trusted": true
      },
      "outputs": [],
      "source": [
        "from sklearn.metrics import f1_score\n",
        "from sklearn.metrics import accuracy_score\n",
        "from sklearn.metrics import recall_score\n",
        "from sklearn.metrics import precision_score"
      ]
    },
    {
      "cell_type": "code",
      "execution_count": null,
      "metadata": {
        "execution": {
          "iopub.execute_input": "2023-04-27T07:54:30.441217Z",
          "iopub.status.busy": "2023-04-27T07:54:30.440631Z",
          "iopub.status.idle": "2023-04-27T07:54:34.587255Z",
          "shell.execute_reply": "2023-04-27T07:54:34.586043Z",
          "shell.execute_reply.started": "2023-04-27T07:54:30.441167Z"
        },
        "id": "9nhLtGaKIZeA",
        "trusted": true
      },
      "outputs": [],
      "source": [
        "def generate_prediction(inputs, model):\n",
        "    inputs = torch.tensor(vocab(inputs), dtype=torch.long).to(device).unsqueeze(0)\n",
        "    outpus =  model(inputs).argmax(dim=1).item()\n",
        "    return outpus\n",
        "\n",
        "test['target'] = test['text'].apply(lambda sentence: generate_prediction(sentence, model))"
      ]
    },
    {
      "cell_type": "code",
      "execution_count": null,
      "metadata": {
        "execution": {
          "iopub.execute_input": "2023-04-27T07:55:21.552155Z",
          "iopub.status.busy": "2023-04-27T07:55:21.550984Z",
          "iopub.status.idle": "2023-04-27T07:55:21.567502Z",
          "shell.execute_reply": "2023-04-27T07:55:21.565952Z",
          "shell.execute_reply.started": "2023-04-27T07:55:21.552110Z"
        },
        "id": "IrmAR6EeIZeA",
        "trusted": true
      },
      "outputs": [],
      "source": [
        "submission = test[['id', 'target']]\n",
        "submission.to_csv('submission_lstm.csv', index=False)\n",
        "print(sum(test['target']))"
      ]
    }
  ],
  "metadata": {
    "accelerator": "GPU",
    "colab": {
      "gpuType": "T4",
      "provenance": []
    },
    "gpuClass": "standard",
    "kernelspec": {
      "display_name": "Python 3",
      "language": "python",
      "name": "python3"
    },
    "language_info": {
      "codemirror_mode": {
        "name": "ipython",
        "version": 3
      },
      "file_extension": ".py",
      "mimetype": "text/x-python",
      "name": "python",
      "nbconvert_exporter": "python",
      "pygments_lexer": "ipython3",
      "version": "3.7.12"
    }
  },
  "nbformat": 4,
  "nbformat_minor": 0
}
